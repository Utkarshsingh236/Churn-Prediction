{
 "cells": [
  {
   "cell_type": "markdown",
   "id": "73ddf6c7",
   "metadata": {},
   "source": [
    "### Introduction\n",
    "Context: Predict behavior to retain customers. You can analyze all relevant customer data and develop focused customer retention programs.\" [IBM Sample Data Sets]\n",
    "\n",
    "Content: Each row represents a customer, each column contains customer’s attributes described on the column Metadata.\n",
    "\n",
    "The data set includes information about:\n",
    "Customers who left within the last month – the column is called Churn\n",
    "Services that each customer has signed up for – phone, multiple lines, internet, online security, online backup, device protection, tech support, and streaming TV and movies\n",
    "Customer account information – how long they’ve been a customer, contract, payment method, paperless billing, monthly charges, and total charges\n",
    "Demographic info about customers – gender, age range, and if they have partners and dependents"
   ]
  },
  {
   "cell_type": "markdown",
   "id": "2f90a9e9",
   "metadata": {},
   "source": [
    "### dataset in kaggle: https://www.kaggle.com/datasets/blastchar/telco-customer-churn"
   ]
  },
  {
   "cell_type": "markdown",
   "id": "722ab8e4",
   "metadata": {},
   "source": [
    "###  Importing Libraries"
   ]
  },
  {
   "cell_type": "code",
   "execution_count": 58,
   "id": "4eb3694e",
   "metadata": {},
   "outputs": [],
   "source": [
    "import pandas as pd\n",
    "import numpy as np\n",
    "\n",
    "import matplotlib.pyplot as plt\n",
    "import seaborn as sns"
   ]
  },
  {
   "cell_type": "markdown",
   "id": "6bb05402",
   "metadata": {},
   "source": [
    "###  Loading and Reading Data"
   ]
  },
  {
   "cell_type": "code",
   "execution_count": 59,
   "id": "34e6436e",
   "metadata": {
    "scrolled": true
   },
   "outputs": [
    {
     "data": {
      "text/html": [
       "<div>\n",
       "<style scoped>\n",
       "    .dataframe tbody tr th:only-of-type {\n",
       "        vertical-align: middle;\n",
       "    }\n",
       "\n",
       "    .dataframe tbody tr th {\n",
       "        vertical-align: top;\n",
       "    }\n",
       "\n",
       "    .dataframe thead th {\n",
       "        text-align: right;\n",
       "    }\n",
       "</style>\n",
       "<table border=\"1\" class=\"dataframe\">\n",
       "  <thead>\n",
       "    <tr style=\"text-align: right;\">\n",
       "      <th></th>\n",
       "      <th>customerID</th>\n",
       "      <th>gender</th>\n",
       "      <th>SeniorCitizen</th>\n",
       "      <th>Partner</th>\n",
       "      <th>Dependents</th>\n",
       "      <th>tenure</th>\n",
       "      <th>PhoneService</th>\n",
       "      <th>MultipleLines</th>\n",
       "      <th>InternetService</th>\n",
       "      <th>OnlineSecurity</th>\n",
       "      <th>...</th>\n",
       "      <th>DeviceProtection</th>\n",
       "      <th>TechSupport</th>\n",
       "      <th>StreamingTV</th>\n",
       "      <th>StreamingMovies</th>\n",
       "      <th>Contract</th>\n",
       "      <th>PaperlessBilling</th>\n",
       "      <th>PaymentMethod</th>\n",
       "      <th>MonthlyCharges</th>\n",
       "      <th>TotalCharges</th>\n",
       "      <th>Churn</th>\n",
       "    </tr>\n",
       "  </thead>\n",
       "  <tbody>\n",
       "    <tr>\n",
       "      <th>0</th>\n",
       "      <td>7590-VHVEG</td>\n",
       "      <td>Female</td>\n",
       "      <td>0</td>\n",
       "      <td>Yes</td>\n",
       "      <td>No</td>\n",
       "      <td>1</td>\n",
       "      <td>No</td>\n",
       "      <td>No phone service</td>\n",
       "      <td>DSL</td>\n",
       "      <td>No</td>\n",
       "      <td>...</td>\n",
       "      <td>No</td>\n",
       "      <td>No</td>\n",
       "      <td>No</td>\n",
       "      <td>No</td>\n",
       "      <td>Month-to-month</td>\n",
       "      <td>Yes</td>\n",
       "      <td>Electronic check</td>\n",
       "      <td>29.85</td>\n",
       "      <td>29.85</td>\n",
       "      <td>No</td>\n",
       "    </tr>\n",
       "    <tr>\n",
       "      <th>1</th>\n",
       "      <td>5575-GNVDE</td>\n",
       "      <td>Male</td>\n",
       "      <td>0</td>\n",
       "      <td>No</td>\n",
       "      <td>No</td>\n",
       "      <td>34</td>\n",
       "      <td>Yes</td>\n",
       "      <td>No</td>\n",
       "      <td>DSL</td>\n",
       "      <td>Yes</td>\n",
       "      <td>...</td>\n",
       "      <td>Yes</td>\n",
       "      <td>No</td>\n",
       "      <td>No</td>\n",
       "      <td>No</td>\n",
       "      <td>One year</td>\n",
       "      <td>No</td>\n",
       "      <td>Mailed check</td>\n",
       "      <td>56.95</td>\n",
       "      <td>1889.5</td>\n",
       "      <td>No</td>\n",
       "    </tr>\n",
       "    <tr>\n",
       "      <th>2</th>\n",
       "      <td>3668-QPYBK</td>\n",
       "      <td>Male</td>\n",
       "      <td>0</td>\n",
       "      <td>No</td>\n",
       "      <td>No</td>\n",
       "      <td>2</td>\n",
       "      <td>Yes</td>\n",
       "      <td>No</td>\n",
       "      <td>DSL</td>\n",
       "      <td>Yes</td>\n",
       "      <td>...</td>\n",
       "      <td>No</td>\n",
       "      <td>No</td>\n",
       "      <td>No</td>\n",
       "      <td>No</td>\n",
       "      <td>Month-to-month</td>\n",
       "      <td>Yes</td>\n",
       "      <td>Mailed check</td>\n",
       "      <td>53.85</td>\n",
       "      <td>108.15</td>\n",
       "      <td>Yes</td>\n",
       "    </tr>\n",
       "    <tr>\n",
       "      <th>3</th>\n",
       "      <td>7795-CFOCW</td>\n",
       "      <td>Male</td>\n",
       "      <td>0</td>\n",
       "      <td>No</td>\n",
       "      <td>No</td>\n",
       "      <td>45</td>\n",
       "      <td>No</td>\n",
       "      <td>No phone service</td>\n",
       "      <td>DSL</td>\n",
       "      <td>Yes</td>\n",
       "      <td>...</td>\n",
       "      <td>Yes</td>\n",
       "      <td>Yes</td>\n",
       "      <td>No</td>\n",
       "      <td>No</td>\n",
       "      <td>One year</td>\n",
       "      <td>No</td>\n",
       "      <td>Bank transfer (automatic)</td>\n",
       "      <td>42.30</td>\n",
       "      <td>1840.75</td>\n",
       "      <td>No</td>\n",
       "    </tr>\n",
       "    <tr>\n",
       "      <th>4</th>\n",
       "      <td>9237-HQITU</td>\n",
       "      <td>Female</td>\n",
       "      <td>0</td>\n",
       "      <td>No</td>\n",
       "      <td>No</td>\n",
       "      <td>2</td>\n",
       "      <td>Yes</td>\n",
       "      <td>No</td>\n",
       "      <td>Fiber optic</td>\n",
       "      <td>No</td>\n",
       "      <td>...</td>\n",
       "      <td>No</td>\n",
       "      <td>No</td>\n",
       "      <td>No</td>\n",
       "      <td>No</td>\n",
       "      <td>Month-to-month</td>\n",
       "      <td>Yes</td>\n",
       "      <td>Electronic check</td>\n",
       "      <td>70.70</td>\n",
       "      <td>151.65</td>\n",
       "      <td>Yes</td>\n",
       "    </tr>\n",
       "  </tbody>\n",
       "</table>\n",
       "<p>5 rows × 21 columns</p>\n",
       "</div>"
      ],
      "text/plain": [
       "   customerID  gender  SeniorCitizen Partner Dependents  tenure PhoneService  \\\n",
       "0  7590-VHVEG  Female              0     Yes         No       1           No   \n",
       "1  5575-GNVDE    Male              0      No         No      34          Yes   \n",
       "2  3668-QPYBK    Male              0      No         No       2          Yes   \n",
       "3  7795-CFOCW    Male              0      No         No      45           No   \n",
       "4  9237-HQITU  Female              0      No         No       2          Yes   \n",
       "\n",
       "      MultipleLines InternetService OnlineSecurity  ... DeviceProtection  \\\n",
       "0  No phone service             DSL             No  ...               No   \n",
       "1                No             DSL            Yes  ...              Yes   \n",
       "2                No             DSL            Yes  ...               No   \n",
       "3  No phone service             DSL            Yes  ...              Yes   \n",
       "4                No     Fiber optic             No  ...               No   \n",
       "\n",
       "  TechSupport StreamingTV StreamingMovies        Contract PaperlessBilling  \\\n",
       "0          No          No              No  Month-to-month              Yes   \n",
       "1          No          No              No        One year               No   \n",
       "2          No          No              No  Month-to-month              Yes   \n",
       "3         Yes          No              No        One year               No   \n",
       "4          No          No              No  Month-to-month              Yes   \n",
       "\n",
       "               PaymentMethod MonthlyCharges  TotalCharges Churn  \n",
       "0           Electronic check          29.85         29.85    No  \n",
       "1               Mailed check          56.95        1889.5    No  \n",
       "2               Mailed check          53.85        108.15   Yes  \n",
       "3  Bank transfer (automatic)          42.30       1840.75    No  \n",
       "4           Electronic check          70.70        151.65   Yes  \n",
       "\n",
       "[5 rows x 21 columns]"
      ]
     },
     "execution_count": 59,
     "metadata": {},
     "output_type": "execute_result"
    }
   ],
   "source": [
    "df = pd.read_csv('WA_Fn-UseC_-Telco-Customer-Churn.csv')\n",
    "df.head()"
   ]
  },
  {
   "cell_type": "markdown",
   "id": "a7f8755b",
   "metadata": {},
   "source": [
    "###  Data Cleaning: Cleaning Strings in Column and values"
   ]
  },
  {
   "cell_type": "code",
   "execution_count": 60,
   "id": "2ff995d8",
   "metadata": {},
   "outputs": [
    {
     "data": {
      "text/html": [
       "<div>\n",
       "<style scoped>\n",
       "    .dataframe tbody tr th:only-of-type {\n",
       "        vertical-align: middle;\n",
       "    }\n",
       "\n",
       "    .dataframe tbody tr th {\n",
       "        vertical-align: top;\n",
       "    }\n",
       "\n",
       "    .dataframe thead th {\n",
       "        text-align: right;\n",
       "    }\n",
       "</style>\n",
       "<table border=\"1\" class=\"dataframe\">\n",
       "  <thead>\n",
       "    <tr style=\"text-align: right;\">\n",
       "      <th></th>\n",
       "      <th>customerid</th>\n",
       "      <th>gender</th>\n",
       "      <th>seniorcitizen</th>\n",
       "      <th>partner</th>\n",
       "      <th>dependents</th>\n",
       "      <th>tenure</th>\n",
       "      <th>phoneservice</th>\n",
       "      <th>multiplelines</th>\n",
       "      <th>internetservice</th>\n",
       "      <th>onlinesecurity</th>\n",
       "      <th>...</th>\n",
       "      <th>deviceprotection</th>\n",
       "      <th>techsupport</th>\n",
       "      <th>streamingtv</th>\n",
       "      <th>streamingmovies</th>\n",
       "      <th>contract</th>\n",
       "      <th>paperlessbilling</th>\n",
       "      <th>paymentmethod</th>\n",
       "      <th>monthlycharges</th>\n",
       "      <th>totalcharges</th>\n",
       "      <th>churn</th>\n",
       "    </tr>\n",
       "  </thead>\n",
       "  <tbody>\n",
       "    <tr>\n",
       "      <th>0</th>\n",
       "      <td>7590-vhveg</td>\n",
       "      <td>female</td>\n",
       "      <td>0</td>\n",
       "      <td>yes</td>\n",
       "      <td>no</td>\n",
       "      <td>1</td>\n",
       "      <td>no</td>\n",
       "      <td>no_phone_service</td>\n",
       "      <td>dsl</td>\n",
       "      <td>no</td>\n",
       "      <td>...</td>\n",
       "      <td>no</td>\n",
       "      <td>no</td>\n",
       "      <td>no</td>\n",
       "      <td>no</td>\n",
       "      <td>month-to-month</td>\n",
       "      <td>yes</td>\n",
       "      <td>electronic_check</td>\n",
       "      <td>29.85</td>\n",
       "      <td>29.85</td>\n",
       "      <td>no</td>\n",
       "    </tr>\n",
       "    <tr>\n",
       "      <th>1</th>\n",
       "      <td>5575-gnvde</td>\n",
       "      <td>male</td>\n",
       "      <td>0</td>\n",
       "      <td>no</td>\n",
       "      <td>no</td>\n",
       "      <td>34</td>\n",
       "      <td>yes</td>\n",
       "      <td>no</td>\n",
       "      <td>dsl</td>\n",
       "      <td>yes</td>\n",
       "      <td>...</td>\n",
       "      <td>yes</td>\n",
       "      <td>no</td>\n",
       "      <td>no</td>\n",
       "      <td>no</td>\n",
       "      <td>one_year</td>\n",
       "      <td>no</td>\n",
       "      <td>mailed_check</td>\n",
       "      <td>56.95</td>\n",
       "      <td>1889.5</td>\n",
       "      <td>no</td>\n",
       "    </tr>\n",
       "    <tr>\n",
       "      <th>2</th>\n",
       "      <td>3668-qpybk</td>\n",
       "      <td>male</td>\n",
       "      <td>0</td>\n",
       "      <td>no</td>\n",
       "      <td>no</td>\n",
       "      <td>2</td>\n",
       "      <td>yes</td>\n",
       "      <td>no</td>\n",
       "      <td>dsl</td>\n",
       "      <td>yes</td>\n",
       "      <td>...</td>\n",
       "      <td>no</td>\n",
       "      <td>no</td>\n",
       "      <td>no</td>\n",
       "      <td>no</td>\n",
       "      <td>month-to-month</td>\n",
       "      <td>yes</td>\n",
       "      <td>mailed_check</td>\n",
       "      <td>53.85</td>\n",
       "      <td>108.15</td>\n",
       "      <td>yes</td>\n",
       "    </tr>\n",
       "    <tr>\n",
       "      <th>3</th>\n",
       "      <td>7795-cfocw</td>\n",
       "      <td>male</td>\n",
       "      <td>0</td>\n",
       "      <td>no</td>\n",
       "      <td>no</td>\n",
       "      <td>45</td>\n",
       "      <td>no</td>\n",
       "      <td>no_phone_service</td>\n",
       "      <td>dsl</td>\n",
       "      <td>yes</td>\n",
       "      <td>...</td>\n",
       "      <td>yes</td>\n",
       "      <td>yes</td>\n",
       "      <td>no</td>\n",
       "      <td>no</td>\n",
       "      <td>one_year</td>\n",
       "      <td>no</td>\n",
       "      <td>bank_transfer_(automatic)</td>\n",
       "      <td>42.30</td>\n",
       "      <td>1840.75</td>\n",
       "      <td>no</td>\n",
       "    </tr>\n",
       "    <tr>\n",
       "      <th>4</th>\n",
       "      <td>9237-hqitu</td>\n",
       "      <td>female</td>\n",
       "      <td>0</td>\n",
       "      <td>no</td>\n",
       "      <td>no</td>\n",
       "      <td>2</td>\n",
       "      <td>yes</td>\n",
       "      <td>no</td>\n",
       "      <td>fiber_optic</td>\n",
       "      <td>no</td>\n",
       "      <td>...</td>\n",
       "      <td>no</td>\n",
       "      <td>no</td>\n",
       "      <td>no</td>\n",
       "      <td>no</td>\n",
       "      <td>month-to-month</td>\n",
       "      <td>yes</td>\n",
       "      <td>electronic_check</td>\n",
       "      <td>70.70</td>\n",
       "      <td>151.65</td>\n",
       "      <td>yes</td>\n",
       "    </tr>\n",
       "  </tbody>\n",
       "</table>\n",
       "<p>5 rows × 21 columns</p>\n",
       "</div>"
      ],
      "text/plain": [
       "   customerid  gender  seniorcitizen partner dependents  tenure phoneservice  \\\n",
       "0  7590-vhveg  female              0     yes         no       1           no   \n",
       "1  5575-gnvde    male              0      no         no      34          yes   \n",
       "2  3668-qpybk    male              0      no         no       2          yes   \n",
       "3  7795-cfocw    male              0      no         no      45           no   \n",
       "4  9237-hqitu  female              0      no         no       2          yes   \n",
       "\n",
       "      multiplelines internetservice onlinesecurity  ... deviceprotection  \\\n",
       "0  no_phone_service             dsl             no  ...               no   \n",
       "1                no             dsl            yes  ...              yes   \n",
       "2                no             dsl            yes  ...               no   \n",
       "3  no_phone_service             dsl            yes  ...              yes   \n",
       "4                no     fiber_optic             no  ...               no   \n",
       "\n",
       "  techsupport streamingtv streamingmovies        contract paperlessbilling  \\\n",
       "0          no          no              no  month-to-month              yes   \n",
       "1          no          no              no        one_year               no   \n",
       "2          no          no              no  month-to-month              yes   \n",
       "3         yes          no              no        one_year               no   \n",
       "4          no          no              no  month-to-month              yes   \n",
       "\n",
       "               paymentmethod monthlycharges  totalcharges churn  \n",
       "0           electronic_check          29.85         29.85    no  \n",
       "1               mailed_check          56.95        1889.5    no  \n",
       "2               mailed_check          53.85        108.15   yes  \n",
       "3  bank_transfer_(automatic)          42.30       1840.75    no  \n",
       "4           electronic_check          70.70        151.65   yes  \n",
       "\n",
       "[5 rows x 21 columns]"
      ]
     },
     "execution_count": 60,
     "metadata": {},
     "output_type": "execute_result"
    }
   ],
   "source": [
    "df.columns = df.columns.str.lower().str.replace(' ', '_')\n",
    "\n",
    "categorical_columns = list(df.dtypes[df.dtypes == 'object'].index)\n",
    "\n",
    "for c in categorical_columns:\n",
    "    df[c] = df[c].str.lower().str.replace(' ', '_')\n",
    "    \n",
    "df.head()"
   ]
  },
  {
   "cell_type": "markdown",
   "id": "b609b026",
   "metadata": {},
   "source": [
    "### Data Preparation"
   ]
  },
  {
   "cell_type": "code",
   "execution_count": 61,
   "id": "1a6914e3",
   "metadata": {},
   "outputs": [
    {
     "name": "stdout",
     "output_type": "stream",
     "text": [
      "<class 'pandas.core.frame.DataFrame'>\n",
      "RangeIndex: 7043 entries, 0 to 7042\n",
      "Data columns (total 21 columns):\n",
      " #   Column            Non-Null Count  Dtype  \n",
      "---  ------            --------------  -----  \n",
      " 0   customerid        7043 non-null   object \n",
      " 1   gender            7043 non-null   object \n",
      " 2   seniorcitizen     7043 non-null   int64  \n",
      " 3   partner           7043 non-null   object \n",
      " 4   dependents        7043 non-null   object \n",
      " 5   tenure            7043 non-null   int64  \n",
      " 6   phoneservice      7043 non-null   object \n",
      " 7   multiplelines     7043 non-null   object \n",
      " 8   internetservice   7043 non-null   object \n",
      " 9   onlinesecurity    7043 non-null   object \n",
      " 10  onlinebackup      7043 non-null   object \n",
      " 11  deviceprotection  7043 non-null   object \n",
      " 12  techsupport       7043 non-null   object \n",
      " 13  streamingtv       7043 non-null   object \n",
      " 14  streamingmovies   7043 non-null   object \n",
      " 15  contract          7043 non-null   object \n",
      " 16  paperlessbilling  7043 non-null   object \n",
      " 17  paymentmethod     7043 non-null   object \n",
      " 18  monthlycharges    7043 non-null   float64\n",
      " 19  totalcharges      7043 non-null   object \n",
      " 20  churn             7043 non-null   object \n",
      "dtypes: float64(1), int64(2), object(18)\n",
      "memory usage: 1.1+ MB\n"
     ]
    }
   ],
   "source": [
    "df.info()"
   ]
  },
  {
   "cell_type": "code",
   "execution_count": 62,
   "id": "5d57d41b",
   "metadata": {},
   "outputs": [
    {
     "data": {
      "text/plain": [
       "20.2       11\n",
       "_          11\n",
       "19.75       9\n",
       "19.9        8\n",
       "20.05       8\n",
       "           ..\n",
       "762.1       1\n",
       "1216.35     1\n",
       "5661.7      1\n",
       "445.85      1\n",
       "453.75      1\n",
       "Name: totalcharges, Length: 6531, dtype: int64"
      ]
     },
     "execution_count": 62,
     "metadata": {},
     "output_type": "execute_result"
    }
   ],
   "source": [
    "df['totalcharges'].value_counts()"
   ]
  },
  {
   "cell_type": "code",
   "execution_count": 63,
   "id": "00e5e67c",
   "metadata": {},
   "outputs": [],
   "source": [
    "# We convert totalcharges to numerical and to ignore the errors (in our case  \"_\") we use errors='coerce'\n",
    "# Store the results back to the original column\n",
    "df.totalcharges = pd.to_numeric(df.totalcharges, errors='coerce')\n",
    "\n",
    "#  Finally take care of the the missing values in totalcharges columns by filling up by 0.\n",
    "df.totalcharges = df.totalcharges.fillna(0)"
   ]
  },
  {
   "cell_type": "code",
   "execution_count": 64,
   "id": "761dac3f",
   "metadata": {},
   "outputs": [],
   "source": [
    "df.churn = (df.churn == 'yes').astype(int)"
   ]
  },
  {
   "cell_type": "markdown",
   "id": "cc2089da",
   "metadata": {},
   "source": [
    "### Setting up the validation framework\n"
   ]
  },
  {
   "cell_type": "code",
   "execution_count": 65,
   "id": "71c823b0",
   "metadata": {},
   "outputs": [
    {
     "name": "stdout",
     "output_type": "stream",
     "text": [
      "Train_set 4225: Validation_set 1409: Test_set 1409:\n"
     ]
    }
   ],
   "source": [
    "from sklearn.model_selection import train_test_split\n",
    "\n",
    "# Making full_train and test set\n",
    "df_full_train, df_test = train_test_split(df, test_size=0.2, random_state=1)\n",
    "\n",
    "# Next making train and validation set from full_train set\n",
    "df_train, df_val = train_test_split(df_full_train, test_size=0.25, random_state=1)\n",
    "\n",
    "# checking the number of values in datasets\n",
    "print(\"Train_set %s:\" %len(df_train), \"Validation_set %s:\" %len(df_val), \"Test_set %s:\" %len(df_test))\n",
    "\n",
    "# Dropping indexes of these datasets\n",
    "df_train = df_train.reset_index(drop=True)\n",
    "df_val = df_val.reset_index(drop=True)\n",
    "df_test = df_test.reset_index(drop=True)\n",
    "\n",
    "# Creating Dependent Variables\n",
    "y_train = df_train.churn.values\n",
    "y_val = df_val.churn.values\n",
    "y_test = df_test.churn.values\n",
    "\n",
    "# Deleting target column i.e. churn from training datasets\n",
    "del df_train['churn']\n",
    "del df_val['churn']\n",
    "del df_test['churn']"
   ]
  },
  {
   "cell_type": "markdown",
   "id": "d316108f",
   "metadata": {},
   "source": [
    "### Exploratory Data Analysis"
   ]
  },
  {
   "cell_type": "code",
   "execution_count": 66,
   "id": "d33f85d9",
   "metadata": {},
   "outputs": [
    {
     "data": {
      "text/plain": [
       "customerid          0\n",
       "gender              0\n",
       "seniorcitizen       0\n",
       "partner             0\n",
       "dependents          0\n",
       "tenure              0\n",
       "phoneservice        0\n",
       "multiplelines       0\n",
       "internetservice     0\n",
       "onlinesecurity      0\n",
       "onlinebackup        0\n",
       "deviceprotection    0\n",
       "techsupport         0\n",
       "streamingtv         0\n",
       "streamingmovies     0\n",
       "contract            0\n",
       "paperlessbilling    0\n",
       "paymentmethod       0\n",
       "monthlycharges      0\n",
       "totalcharges        0\n",
       "churn               0\n",
       "dtype: int64"
      ]
     },
     "execution_count": 66,
     "metadata": {},
     "output_type": "execute_result"
    }
   ],
   "source": [
    "\"\"\"Removing the index column\"\"\"\n",
    "df_full_train = df_full_train.reset_index(drop=True)\n",
    "\n",
    "\"\"\"Checking for missing values\"\"\"\n",
    "df_full_train.isnull().sum()"
   ]
  },
  {
   "cell_type": "code",
   "execution_count": 67,
   "id": "f5538b46",
   "metadata": {},
   "outputs": [
    {
     "name": "stdout",
     "output_type": "stream",
     "text": [
      "0    0.730032\n",
      "1    0.269968\n",
      "Name: churn, dtype: float64\n",
      "0.26996805111821087\n"
     ]
    }
   ],
   "source": [
    "\n",
    "print(df_full_train['churn'].value_counts(normalize = True))\n",
    "\n",
    "print(df_full_train['churn'].mean())\n",
    "\n",
    "useful_features = [col for col in df_full_train.columns if col not in ['customerid', 'churn']]\n",
    "categorical = [col for col in useful_features if df_full_train[col].dtype == 'object'] + ['seniorcitizen']\n",
    "numerical = [col for col in useful_features if col not in categorical]"
   ]
  },
  {
   "cell_type": "markdown",
   "id": "a0dd4232",
   "metadata": {},
   "source": [
    "### Feature Importance: Churn Rate and Risk Ratio"
   ]
  },
  {
   "cell_type": "code",
   "execution_count": 68,
   "id": "43f73df4",
   "metadata": {},
   "outputs": [
    {
     "name": "stdout",
     "output_type": "stream",
     "text": [
      "gender\n"
     ]
    },
    {
     "data": {
      "text/html": [
       "<style  type=\"text/css\" >\n",
       "#T_9d8b8_row0_col0,#T_9d8b8_row0_col2,#T_9d8b8_row0_col3,#T_9d8b8_row1_col1{\n",
       "            background-color:  #000000;\n",
       "            color:  #f1f1f1;\n",
       "        }#T_9d8b8_row0_col1,#T_9d8b8_row1_col0,#T_9d8b8_row1_col2,#T_9d8b8_row1_col3{\n",
       "            background-color:  #ffffff;\n",
       "            color:  #000000;\n",
       "        }</style><table id=\"T_9d8b8_\" ><thead>    <tr>        <th class=\"blank level0\" ></th>        <th class=\"col_heading level0 col0\" >mean</th>        <th class=\"col_heading level0 col1\" >count</th>        <th class=\"col_heading level0 col2\" >diff</th>        <th class=\"col_heading level0 col3\" >risk</th>    </tr>    <tr>        <th class=\"index_name level0\" >gender</th>        <th class=\"blank\" ></th>        <th class=\"blank\" ></th>        <th class=\"blank\" ></th>        <th class=\"blank\" ></th>    </tr></thead><tbody>\n",
       "                <tr>\n",
       "                        <th id=\"T_9d8b8_level0_row0\" class=\"row_heading level0 row0\" >female</th>\n",
       "                        <td id=\"T_9d8b8_row0_col0\" class=\"data row0 col0\" >0.276824</td>\n",
       "                        <td id=\"T_9d8b8_row0_col1\" class=\"data row0 col1\" >2796</td>\n",
       "                        <td id=\"T_9d8b8_row0_col2\" class=\"data row0 col2\" >0.006856</td>\n",
       "                        <td id=\"T_9d8b8_row0_col3\" class=\"data row0 col3\" >1.025396</td>\n",
       "            </tr>\n",
       "            <tr>\n",
       "                        <th id=\"T_9d8b8_level0_row1\" class=\"row_heading level0 row1\" >male</th>\n",
       "                        <td id=\"T_9d8b8_row1_col0\" class=\"data row1 col0\" >0.263214</td>\n",
       "                        <td id=\"T_9d8b8_row1_col1\" class=\"data row1 col1\" >2838</td>\n",
       "                        <td id=\"T_9d8b8_row1_col2\" class=\"data row1 col2\" >-0.006755</td>\n",
       "                        <td id=\"T_9d8b8_row1_col3\" class=\"data row1 col3\" >0.974980</td>\n",
       "            </tr>\n",
       "    </tbody></table>"
      ],
      "text/plain": [
       "<pandas.io.formats.style.Styler at 0x1c6ff662040>"
      ]
     },
     "metadata": {},
     "output_type": "display_data"
    },
    {
     "name": "stdout",
     "output_type": "stream",
     "text": [
      "\n",
      "\n",
      "partner\n"
     ]
    },
    {
     "data": {
      "text/html": [
       "<style  type=\"text/css\" >\n",
       "#T_2e77b_row0_col0,#T_2e77b_row0_col1,#T_2e77b_row0_col2,#T_2e77b_row0_col3{\n",
       "            background-color:  #000000;\n",
       "            color:  #f1f1f1;\n",
       "        }#T_2e77b_row1_col0,#T_2e77b_row1_col1,#T_2e77b_row1_col2,#T_2e77b_row1_col3{\n",
       "            background-color:  #ffffff;\n",
       "            color:  #000000;\n",
       "        }</style><table id=\"T_2e77b_\" ><thead>    <tr>        <th class=\"blank level0\" ></th>        <th class=\"col_heading level0 col0\" >mean</th>        <th class=\"col_heading level0 col1\" >count</th>        <th class=\"col_heading level0 col2\" >diff</th>        <th class=\"col_heading level0 col3\" >risk</th>    </tr>    <tr>        <th class=\"index_name level0\" >partner</th>        <th class=\"blank\" ></th>        <th class=\"blank\" ></th>        <th class=\"blank\" ></th>        <th class=\"blank\" ></th>    </tr></thead><tbody>\n",
       "                <tr>\n",
       "                        <th id=\"T_2e77b_level0_row0\" class=\"row_heading level0 row0\" >no</th>\n",
       "                        <td id=\"T_2e77b_row0_col0\" class=\"data row0 col0\" >0.329809</td>\n",
       "                        <td id=\"T_2e77b_row0_col1\" class=\"data row0 col1\" >2932</td>\n",
       "                        <td id=\"T_2e77b_row0_col2\" class=\"data row0 col2\" >0.059841</td>\n",
       "                        <td id=\"T_2e77b_row0_col3\" class=\"data row0 col3\" >1.221659</td>\n",
       "            </tr>\n",
       "            <tr>\n",
       "                        <th id=\"T_2e77b_level0_row1\" class=\"row_heading level0 row1\" >yes</th>\n",
       "                        <td id=\"T_2e77b_row1_col0\" class=\"data row1 col0\" >0.205033</td>\n",
       "                        <td id=\"T_2e77b_row1_col1\" class=\"data row1 col1\" >2702</td>\n",
       "                        <td id=\"T_2e77b_row1_col2\" class=\"data row1 col2\" >-0.064935</td>\n",
       "                        <td id=\"T_2e77b_row1_col3\" class=\"data row1 col3\" >0.759472</td>\n",
       "            </tr>\n",
       "    </tbody></table>"
      ],
      "text/plain": [
       "<pandas.io.formats.style.Styler at 0x1c6fff5c0d0>"
      ]
     },
     "metadata": {},
     "output_type": "display_data"
    },
    {
     "name": "stdout",
     "output_type": "stream",
     "text": [
      "\n",
      "\n",
      "dependents\n"
     ]
    },
    {
     "data": {
      "text/html": [
       "<style  type=\"text/css\" >\n",
       "#T_962ec_row0_col0,#T_962ec_row0_col1,#T_962ec_row0_col2,#T_962ec_row0_col3{\n",
       "            background-color:  #000000;\n",
       "            color:  #f1f1f1;\n",
       "        }#T_962ec_row1_col0,#T_962ec_row1_col1,#T_962ec_row1_col2,#T_962ec_row1_col3{\n",
       "            background-color:  #ffffff;\n",
       "            color:  #000000;\n",
       "        }</style><table id=\"T_962ec_\" ><thead>    <tr>        <th class=\"blank level0\" ></th>        <th class=\"col_heading level0 col0\" >mean</th>        <th class=\"col_heading level0 col1\" >count</th>        <th class=\"col_heading level0 col2\" >diff</th>        <th class=\"col_heading level0 col3\" >risk</th>    </tr>    <tr>        <th class=\"index_name level0\" >dependents</th>        <th class=\"blank\" ></th>        <th class=\"blank\" ></th>        <th class=\"blank\" ></th>        <th class=\"blank\" ></th>    </tr></thead><tbody>\n",
       "                <tr>\n",
       "                        <th id=\"T_962ec_level0_row0\" class=\"row_heading level0 row0\" >no</th>\n",
       "                        <td id=\"T_962ec_row0_col0\" class=\"data row0 col0\" >0.313760</td>\n",
       "                        <td id=\"T_962ec_row0_col1\" class=\"data row0 col1\" >3968</td>\n",
       "                        <td id=\"T_962ec_row0_col2\" class=\"data row0 col2\" >0.043792</td>\n",
       "                        <td id=\"T_962ec_row0_col3\" class=\"data row0 col3\" >1.162212</td>\n",
       "            </tr>\n",
       "            <tr>\n",
       "                        <th id=\"T_962ec_level0_row1\" class=\"row_heading level0 row1\" >yes</th>\n",
       "                        <td id=\"T_962ec_row1_col0\" class=\"data row1 col0\" >0.165666</td>\n",
       "                        <td id=\"T_962ec_row1_col1\" class=\"data row1 col1\" >1666</td>\n",
       "                        <td id=\"T_962ec_row1_col2\" class=\"data row1 col2\" >-0.104302</td>\n",
       "                        <td id=\"T_962ec_row1_col3\" class=\"data row1 col3\" >0.613651</td>\n",
       "            </tr>\n",
       "    </tbody></table>"
      ],
      "text/plain": [
       "<pandas.io.formats.style.Styler at 0x1c6fe15ebe0>"
      ]
     },
     "metadata": {},
     "output_type": "display_data"
    },
    {
     "name": "stdout",
     "output_type": "stream",
     "text": [
      "\n",
      "\n",
      "phoneservice\n"
     ]
    },
    {
     "data": {
      "text/html": [
       "<style  type=\"text/css\" >\n",
       "#T_f76b6_row0_col0,#T_f76b6_row0_col1,#T_f76b6_row0_col2,#T_f76b6_row0_col3{\n",
       "            background-color:  #ffffff;\n",
       "            color:  #000000;\n",
       "        }#T_f76b6_row1_col0,#T_f76b6_row1_col1,#T_f76b6_row1_col2,#T_f76b6_row1_col3{\n",
       "            background-color:  #000000;\n",
       "            color:  #f1f1f1;\n",
       "        }</style><table id=\"T_f76b6_\" ><thead>    <tr>        <th class=\"blank level0\" ></th>        <th class=\"col_heading level0 col0\" >mean</th>        <th class=\"col_heading level0 col1\" >count</th>        <th class=\"col_heading level0 col2\" >diff</th>        <th class=\"col_heading level0 col3\" >risk</th>    </tr>    <tr>        <th class=\"index_name level0\" >phoneservice</th>        <th class=\"blank\" ></th>        <th class=\"blank\" ></th>        <th class=\"blank\" ></th>        <th class=\"blank\" ></th>    </tr></thead><tbody>\n",
       "                <tr>\n",
       "                        <th id=\"T_f76b6_level0_row0\" class=\"row_heading level0 row0\" >no</th>\n",
       "                        <td id=\"T_f76b6_row0_col0\" class=\"data row0 col0\" >0.241316</td>\n",
       "                        <td id=\"T_f76b6_row0_col1\" class=\"data row0 col1\" >547</td>\n",
       "                        <td id=\"T_f76b6_row0_col2\" class=\"data row0 col2\" >-0.028652</td>\n",
       "                        <td id=\"T_f76b6_row0_col3\" class=\"data row0 col3\" >0.893870</td>\n",
       "            </tr>\n",
       "            <tr>\n",
       "                        <th id=\"T_f76b6_level0_row1\" class=\"row_heading level0 row1\" >yes</th>\n",
       "                        <td id=\"T_f76b6_row1_col0\" class=\"data row1 col0\" >0.273049</td>\n",
       "                        <td id=\"T_f76b6_row1_col1\" class=\"data row1 col1\" >5087</td>\n",
       "                        <td id=\"T_f76b6_row1_col2\" class=\"data row1 col2\" >0.003081</td>\n",
       "                        <td id=\"T_f76b6_row1_col3\" class=\"data row1 col3\" >1.011412</td>\n",
       "            </tr>\n",
       "    </tbody></table>"
      ],
      "text/plain": [
       "<pandas.io.formats.style.Styler at 0x1c6836f9940>"
      ]
     },
     "metadata": {},
     "output_type": "display_data"
    },
    {
     "name": "stdout",
     "output_type": "stream",
     "text": [
      "\n",
      "\n",
      "multiplelines\n"
     ]
    },
    {
     "data": {
      "text/html": [
       "<style  type=\"text/css\" >\n",
       "#T_55948_row0_col0,#T_55948_row0_col2,#T_55948_row0_col3{\n",
       "            background-color:  #96b0b6;\n",
       "            color:  #000000;\n",
       "        }#T_55948_row0_col1,#T_55948_row2_col0,#T_55948_row2_col2,#T_55948_row2_col3{\n",
       "            background-color:  #000000;\n",
       "            color:  #f1f1f1;\n",
       "        }#T_55948_row1_col0,#T_55948_row1_col1,#T_55948_row1_col2,#T_55948_row1_col3{\n",
       "            background-color:  #ffffff;\n",
       "            color:  #000000;\n",
       "        }#T_55948_row2_col1{\n",
       "            background-color:  #20202d;\n",
       "            color:  #f1f1f1;\n",
       "        }</style><table id=\"T_55948_\" ><thead>    <tr>        <th class=\"blank level0\" ></th>        <th class=\"col_heading level0 col0\" >mean</th>        <th class=\"col_heading level0 col1\" >count</th>        <th class=\"col_heading level0 col2\" >diff</th>        <th class=\"col_heading level0 col3\" >risk</th>    </tr>    <tr>        <th class=\"index_name level0\" >multiplelines</th>        <th class=\"blank\" ></th>        <th class=\"blank\" ></th>        <th class=\"blank\" ></th>        <th class=\"blank\" ></th>    </tr></thead><tbody>\n",
       "                <tr>\n",
       "                        <th id=\"T_55948_level0_row0\" class=\"row_heading level0 row0\" >no</th>\n",
       "                        <td id=\"T_55948_row0_col0\" class=\"data row0 col0\" >0.257407</td>\n",
       "                        <td id=\"T_55948_row0_col1\" class=\"data row0 col1\" >2700</td>\n",
       "                        <td id=\"T_55948_row0_col2\" class=\"data row0 col2\" >-0.012561</td>\n",
       "                        <td id=\"T_55948_row0_col3\" class=\"data row0 col3\" >0.953474</td>\n",
       "            </tr>\n",
       "            <tr>\n",
       "                        <th id=\"T_55948_level0_row1\" class=\"row_heading level0 row1\" >no_phone_service</th>\n",
       "                        <td id=\"T_55948_row1_col0\" class=\"data row1 col0\" >0.241316</td>\n",
       "                        <td id=\"T_55948_row1_col1\" class=\"data row1 col1\" >547</td>\n",
       "                        <td id=\"T_55948_row1_col2\" class=\"data row1 col2\" >-0.028652</td>\n",
       "                        <td id=\"T_55948_row1_col3\" class=\"data row1 col3\" >0.893870</td>\n",
       "            </tr>\n",
       "            <tr>\n",
       "                        <th id=\"T_55948_level0_row2\" class=\"row_heading level0 row2\" >yes</th>\n",
       "                        <td id=\"T_55948_row2_col0\" class=\"data row2 col0\" >0.290742</td>\n",
       "                        <td id=\"T_55948_row2_col1\" class=\"data row2 col1\" >2387</td>\n",
       "                        <td id=\"T_55948_row2_col2\" class=\"data row2 col2\" >0.020773</td>\n",
       "                        <td id=\"T_55948_row2_col3\" class=\"data row2 col3\" >1.076948</td>\n",
       "            </tr>\n",
       "    </tbody></table>"
      ],
      "text/plain": [
       "<pandas.io.formats.style.Styler at 0x1c6836f9910>"
      ]
     },
     "metadata": {},
     "output_type": "display_data"
    },
    {
     "name": "stdout",
     "output_type": "stream",
     "text": [
      "\n",
      "\n",
      "internetservice\n"
     ]
    },
    {
     "data": {
      "text/html": [
       "<style  type=\"text/css\" >\n",
       "#T_e6636_row0_col0,#T_e6636_row0_col2,#T_e6636_row0_col3{\n",
       "            background-color:  #96afb5;\n",
       "            color:  #000000;\n",
       "        }#T_e6636_row0_col1{\n",
       "            background-color:  #606680;\n",
       "            color:  #f1f1f1;\n",
       "        }#T_e6636_row1_col0,#T_e6636_row1_col1,#T_e6636_row1_col2,#T_e6636_row1_col3{\n",
       "            background-color:  #000000;\n",
       "            color:  #f1f1f1;\n",
       "        }#T_e6636_row2_col0,#T_e6636_row2_col1,#T_e6636_row2_col2,#T_e6636_row2_col3{\n",
       "            background-color:  #ffffff;\n",
       "            color:  #000000;\n",
       "        }</style><table id=\"T_e6636_\" ><thead>    <tr>        <th class=\"blank level0\" ></th>        <th class=\"col_heading level0 col0\" >mean</th>        <th class=\"col_heading level0 col1\" >count</th>        <th class=\"col_heading level0 col2\" >diff</th>        <th class=\"col_heading level0 col3\" >risk</th>    </tr>    <tr>        <th class=\"index_name level0\" >internetservice</th>        <th class=\"blank\" ></th>        <th class=\"blank\" ></th>        <th class=\"blank\" ></th>        <th class=\"blank\" ></th>    </tr></thead><tbody>\n",
       "                <tr>\n",
       "                        <th id=\"T_e6636_level0_row0\" class=\"row_heading level0 row0\" >dsl</th>\n",
       "                        <td id=\"T_e6636_row0_col0\" class=\"data row0 col0\" >0.192347</td>\n",
       "                        <td id=\"T_e6636_row0_col1\" class=\"data row0 col1\" >1934</td>\n",
       "                        <td id=\"T_e6636_row0_col2\" class=\"data row0 col2\" >-0.077621</td>\n",
       "                        <td id=\"T_e6636_row0_col3\" class=\"data row0 col3\" >0.712482</td>\n",
       "            </tr>\n",
       "            <tr>\n",
       "                        <th id=\"T_e6636_level0_row1\" class=\"row_heading level0 row1\" >fiber_optic</th>\n",
       "                        <td id=\"T_e6636_row1_col0\" class=\"data row1 col0\" >0.425171</td>\n",
       "                        <td id=\"T_e6636_row1_col1\" class=\"data row1 col1\" >2479</td>\n",
       "                        <td id=\"T_e6636_row1_col2\" class=\"data row1 col2\" >0.155203</td>\n",
       "                        <td id=\"T_e6636_row1_col3\" class=\"data row1 col3\" >1.574895</td>\n",
       "            </tr>\n",
       "            <tr>\n",
       "                        <th id=\"T_e6636_level0_row2\" class=\"row_heading level0 row2\" >no</th>\n",
       "                        <td id=\"T_e6636_row2_col0\" class=\"data row2 col0\" >0.077805</td>\n",
       "                        <td id=\"T_e6636_row2_col1\" class=\"data row2 col1\" >1221</td>\n",
       "                        <td id=\"T_e6636_row2_col2\" class=\"data row2 col2\" >-0.192163</td>\n",
       "                        <td id=\"T_e6636_row2_col3\" class=\"data row2 col3\" >0.288201</td>\n",
       "            </tr>\n",
       "    </tbody></table>"
      ],
      "text/plain": [
       "<pandas.io.formats.style.Styler at 0x1c6fe15eaf0>"
      ]
     },
     "metadata": {},
     "output_type": "display_data"
    },
    {
     "name": "stdout",
     "output_type": "stream",
     "text": [
      "\n",
      "\n",
      "onlinesecurity\n"
     ]
    },
    {
     "data": {
      "text/html": [
       "<style  type=\"text/css\" >\n",
       "#T_7b327_row0_col0,#T_7b327_row0_col1,#T_7b327_row0_col2,#T_7b327_row0_col3{\n",
       "            background-color:  #000000;\n",
       "            color:  #f1f1f1;\n",
       "        }#T_7b327_row1_col0,#T_7b327_row1_col1,#T_7b327_row1_col2,#T_7b327_row1_col3{\n",
       "            background-color:  #ffffff;\n",
       "            color:  #000000;\n",
       "        }#T_7b327_row2_col0,#T_7b327_row2_col2,#T_7b327_row2_col3{\n",
       "            background-color:  #b2cece;\n",
       "            color:  #000000;\n",
       "        }#T_7b327_row2_col1{\n",
       "            background-color:  #a9c8c8;\n",
       "            color:  #000000;\n",
       "        }</style><table id=\"T_7b327_\" ><thead>    <tr>        <th class=\"blank level0\" ></th>        <th class=\"col_heading level0 col0\" >mean</th>        <th class=\"col_heading level0 col1\" >count</th>        <th class=\"col_heading level0 col2\" >diff</th>        <th class=\"col_heading level0 col3\" >risk</th>    </tr>    <tr>        <th class=\"index_name level0\" >onlinesecurity</th>        <th class=\"blank\" ></th>        <th class=\"blank\" ></th>        <th class=\"blank\" ></th>        <th class=\"blank\" ></th>    </tr></thead><tbody>\n",
       "                <tr>\n",
       "                        <th id=\"T_7b327_level0_row0\" class=\"row_heading level0 row0\" >no</th>\n",
       "                        <td id=\"T_7b327_row0_col0\" class=\"data row0 col0\" >0.420921</td>\n",
       "                        <td id=\"T_7b327_row0_col1\" class=\"data row0 col1\" >2801</td>\n",
       "                        <td id=\"T_7b327_row0_col2\" class=\"data row0 col2\" >0.150953</td>\n",
       "                        <td id=\"T_7b327_row0_col3\" class=\"data row0 col3\" >1.559152</td>\n",
       "            </tr>\n",
       "            <tr>\n",
       "                        <th id=\"T_7b327_level0_row1\" class=\"row_heading level0 row1\" >no_internet_service</th>\n",
       "                        <td id=\"T_7b327_row1_col0\" class=\"data row1 col0\" >0.077805</td>\n",
       "                        <td id=\"T_7b327_row1_col1\" class=\"data row1 col1\" >1221</td>\n",
       "                        <td id=\"T_7b327_row1_col2\" class=\"data row1 col2\" >-0.192163</td>\n",
       "                        <td id=\"T_7b327_row1_col3\" class=\"data row1 col3\" >0.288201</td>\n",
       "            </tr>\n",
       "            <tr>\n",
       "                        <th id=\"T_7b327_level0_row2\" class=\"row_heading level0 row2\" >yes</th>\n",
       "                        <td id=\"T_7b327_row2_col0\" class=\"data row2 col0\" >0.153226</td>\n",
       "                        <td id=\"T_7b327_row2_col1\" class=\"data row2 col1\" >1612</td>\n",
       "                        <td id=\"T_7b327_row2_col2\" class=\"data row2 col2\" >-0.116742</td>\n",
       "                        <td id=\"T_7b327_row2_col3\" class=\"data row2 col3\" >0.567570</td>\n",
       "            </tr>\n",
       "    </tbody></table>"
      ],
      "text/plain": [
       "<pandas.io.formats.style.Styler at 0x1c681664430>"
      ]
     },
     "metadata": {},
     "output_type": "display_data"
    },
    {
     "name": "stdout",
     "output_type": "stream",
     "text": [
      "\n",
      "\n",
      "onlinebackup\n"
     ]
    },
    {
     "data": {
      "text/html": [
       "<style  type=\"text/css\" >\n",
       "#T_d2461_row0_col0,#T_d2461_row0_col1,#T_d2461_row0_col2,#T_d2461_row0_col3{\n",
       "            background-color:  #000000;\n",
       "            color:  #f1f1f1;\n",
       "        }#T_d2461_row1_col0,#T_d2461_row1_col1,#T_d2461_row1_col2,#T_d2461_row1_col3{\n",
       "            background-color:  #ffffff;\n",
       "            color:  #000000;\n",
       "        }#T_d2461_row2_col0,#T_d2461_row2_col2,#T_d2461_row2_col3{\n",
       "            background-color:  #8091a0;\n",
       "            color:  #000000;\n",
       "        }#T_d2461_row2_col1{\n",
       "            background-color:  #666d85;\n",
       "            color:  #000000;\n",
       "        }</style><table id=\"T_d2461_\" ><thead>    <tr>        <th class=\"blank level0\" ></th>        <th class=\"col_heading level0 col0\" >mean</th>        <th class=\"col_heading level0 col1\" >count</th>        <th class=\"col_heading level0 col2\" >diff</th>        <th class=\"col_heading level0 col3\" >risk</th>    </tr>    <tr>        <th class=\"index_name level0\" >onlinebackup</th>        <th class=\"blank\" ></th>        <th class=\"blank\" ></th>        <th class=\"blank\" ></th>        <th class=\"blank\" ></th>    </tr></thead><tbody>\n",
       "                <tr>\n",
       "                        <th id=\"T_d2461_level0_row0\" class=\"row_heading level0 row0\" >no</th>\n",
       "                        <td id=\"T_d2461_row0_col0\" class=\"data row0 col0\" >0.404323</td>\n",
       "                        <td id=\"T_d2461_row0_col1\" class=\"data row0 col1\" >2498</td>\n",
       "                        <td id=\"T_d2461_row0_col2\" class=\"data row0 col2\" >0.134355</td>\n",
       "                        <td id=\"T_d2461_row0_col3\" class=\"data row0 col3\" >1.497672</td>\n",
       "            </tr>\n",
       "            <tr>\n",
       "                        <th id=\"T_d2461_level0_row1\" class=\"row_heading level0 row1\" >no_internet_service</th>\n",
       "                        <td id=\"T_d2461_row1_col0\" class=\"data row1 col0\" >0.077805</td>\n",
       "                        <td id=\"T_d2461_row1_col1\" class=\"data row1 col1\" >1221</td>\n",
       "                        <td id=\"T_d2461_row1_col2\" class=\"data row1 col2\" >-0.192163</td>\n",
       "                        <td id=\"T_d2461_row1_col3\" class=\"data row1 col3\" >0.288201</td>\n",
       "            </tr>\n",
       "            <tr>\n",
       "                        <th id=\"T_d2461_level0_row2\" class=\"row_heading level0 row2\" >yes</th>\n",
       "                        <td id=\"T_d2461_row2_col0\" class=\"data row2 col0\" >0.217232</td>\n",
       "                        <td id=\"T_d2461_row2_col1\" class=\"data row2 col1\" >1915</td>\n",
       "                        <td id=\"T_d2461_row2_col2\" class=\"data row2 col2\" >-0.052736</td>\n",
       "                        <td id=\"T_d2461_row2_col3\" class=\"data row2 col3\" >0.804660</td>\n",
       "            </tr>\n",
       "    </tbody></table>"
      ],
      "text/plain": [
       "<pandas.io.formats.style.Styler at 0x1c6816cb340>"
      ]
     },
     "metadata": {},
     "output_type": "display_data"
    },
    {
     "name": "stdout",
     "output_type": "stream",
     "text": [
      "\n",
      "\n",
      "deviceprotection\n"
     ]
    },
    {
     "data": {
      "text/html": [
       "<style  type=\"text/css\" >\n",
       "#T_c1228_row0_col0,#T_c1228_row0_col1,#T_c1228_row0_col2,#T_c1228_row0_col3{\n",
       "            background-color:  #000000;\n",
       "            color:  #f1f1f1;\n",
       "        }#T_c1228_row1_col0,#T_c1228_row1_col1,#T_c1228_row1_col2,#T_c1228_row1_col3{\n",
       "            background-color:  #ffffff;\n",
       "            color:  #000000;\n",
       "        }#T_c1228_row2_col0,#T_c1228_row2_col2,#T_c1228_row2_col3{\n",
       "            background-color:  #748194;\n",
       "            color:  #000000;\n",
       "        }#T_c1228_row2_col1{\n",
       "            background-color:  #5e637e;\n",
       "            color:  #f1f1f1;\n",
       "        }</style><table id=\"T_c1228_\" ><thead>    <tr>        <th class=\"blank level0\" ></th>        <th class=\"col_heading level0 col0\" >mean</th>        <th class=\"col_heading level0 col1\" >count</th>        <th class=\"col_heading level0 col2\" >diff</th>        <th class=\"col_heading level0 col3\" >risk</th>    </tr>    <tr>        <th class=\"index_name level0\" >deviceprotection</th>        <th class=\"blank\" ></th>        <th class=\"blank\" ></th>        <th class=\"blank\" ></th>        <th class=\"blank\" ></th>    </tr></thead><tbody>\n",
       "                <tr>\n",
       "                        <th id=\"T_c1228_level0_row0\" class=\"row_heading level0 row0\" >no</th>\n",
       "                        <td id=\"T_c1228_row0_col0\" class=\"data row0 col0\" >0.395875</td>\n",
       "                        <td id=\"T_c1228_row0_col1\" class=\"data row0 col1\" >2473</td>\n",
       "                        <td id=\"T_c1228_row0_col2\" class=\"data row0 col2\" >0.125907</td>\n",
       "                        <td id=\"T_c1228_row0_col3\" class=\"data row0 col3\" >1.466379</td>\n",
       "            </tr>\n",
       "            <tr>\n",
       "                        <th id=\"T_c1228_level0_row1\" class=\"row_heading level0 row1\" >no_internet_service</th>\n",
       "                        <td id=\"T_c1228_row1_col0\" class=\"data row1 col0\" >0.077805</td>\n",
       "                        <td id=\"T_c1228_row1_col1\" class=\"data row1 col1\" >1221</td>\n",
       "                        <td id=\"T_c1228_row1_col2\" class=\"data row1 col2\" >-0.192163</td>\n",
       "                        <td id=\"T_c1228_row1_col3\" class=\"data row1 col3\" >0.288201</td>\n",
       "            </tr>\n",
       "            <tr>\n",
       "                        <th id=\"T_c1228_level0_row2\" class=\"row_heading level0 row2\" >yes</th>\n",
       "                        <td id=\"T_c1228_row2_col0\" class=\"data row2 col0\" >0.230412</td>\n",
       "                        <td id=\"T_c1228_row2_col1\" class=\"data row2 col1\" >1940</td>\n",
       "                        <td id=\"T_c1228_row2_col2\" class=\"data row2 col2\" >-0.039556</td>\n",
       "                        <td id=\"T_c1228_row2_col3\" class=\"data row2 col3\" >0.853480</td>\n",
       "            </tr>\n",
       "    </tbody></table>"
      ],
      "text/plain": [
       "<pandas.io.formats.style.Styler at 0x1c681664e20>"
      ]
     },
     "metadata": {},
     "output_type": "display_data"
    },
    {
     "name": "stdout",
     "output_type": "stream",
     "text": [
      "\n",
      "\n",
      "techsupport\n"
     ]
    },
    {
     "data": {
      "text/html": [
       "<style  type=\"text/css\" >\n",
       "#T_8f2a4_row0_col0,#T_8f2a4_row0_col1,#T_8f2a4_row0_col2,#T_8f2a4_row0_col3{\n",
       "            background-color:  #000000;\n",
       "            color:  #f1f1f1;\n",
       "        }#T_8f2a4_row1_col0,#T_8f2a4_row1_col1,#T_8f2a4_row1_col2,#T_8f2a4_row1_col3{\n",
       "            background-color:  #ffffff;\n",
       "            color:  #000000;\n",
       "        }#T_8f2a4_row2_col0,#T_8f2a4_row2_col2,#T_8f2a4_row2_col3{\n",
       "            background-color:  #accaca;\n",
       "            color:  #000000;\n",
       "        }#T_8f2a4_row2_col1{\n",
       "            background-color:  #a4c4c4;\n",
       "            color:  #000000;\n",
       "        }</style><table id=\"T_8f2a4_\" ><thead>    <tr>        <th class=\"blank level0\" ></th>        <th class=\"col_heading level0 col0\" >mean</th>        <th class=\"col_heading level0 col1\" >count</th>        <th class=\"col_heading level0 col2\" >diff</th>        <th class=\"col_heading level0 col3\" >risk</th>    </tr>    <tr>        <th class=\"index_name level0\" >techsupport</th>        <th class=\"blank\" ></th>        <th class=\"blank\" ></th>        <th class=\"blank\" ></th>        <th class=\"blank\" ></th>    </tr></thead><tbody>\n",
       "                <tr>\n",
       "                        <th id=\"T_8f2a4_level0_row0\" class=\"row_heading level0 row0\" >no</th>\n",
       "                        <td id=\"T_8f2a4_row0_col0\" class=\"data row0 col0\" >0.418914</td>\n",
       "                        <td id=\"T_8f2a4_row0_col1\" class=\"data row0 col1\" >2781</td>\n",
       "                        <td id=\"T_8f2a4_row0_col2\" class=\"data row0 col2\" >0.148946</td>\n",
       "                        <td id=\"T_8f2a4_row0_col3\" class=\"data row0 col3\" >1.551717</td>\n",
       "            </tr>\n",
       "            <tr>\n",
       "                        <th id=\"T_8f2a4_level0_row1\" class=\"row_heading level0 row1\" >no_internet_service</th>\n",
       "                        <td id=\"T_8f2a4_row1_col0\" class=\"data row1 col0\" >0.077805</td>\n",
       "                        <td id=\"T_8f2a4_row1_col1\" class=\"data row1 col1\" >1221</td>\n",
       "                        <td id=\"T_8f2a4_row1_col2\" class=\"data row1 col2\" >-0.192163</td>\n",
       "                        <td id=\"T_8f2a4_row1_col3\" class=\"data row1 col3\" >0.288201</td>\n",
       "            </tr>\n",
       "            <tr>\n",
       "                        <th id=\"T_8f2a4_level0_row2\" class=\"row_heading level0 row2\" >yes</th>\n",
       "                        <td id=\"T_8f2a4_row2_col0\" class=\"data row2 col0\" >0.159926</td>\n",
       "                        <td id=\"T_8f2a4_row2_col1\" class=\"data row2 col1\" >1632</td>\n",
       "                        <td id=\"T_8f2a4_row2_col2\" class=\"data row2 col2\" >-0.110042</td>\n",
       "                        <td id=\"T_8f2a4_row2_col3\" class=\"data row2 col3\" >0.592390</td>\n",
       "            </tr>\n",
       "    </tbody></table>"
      ],
      "text/plain": [
       "<pandas.io.formats.style.Styler at 0x1c6fe29db80>"
      ]
     },
     "metadata": {},
     "output_type": "display_data"
    },
    {
     "name": "stdout",
     "output_type": "stream",
     "text": [
      "\n",
      "\n",
      "streamingtv\n"
     ]
    },
    {
     "data": {
      "text/html": [
       "<style  type=\"text/css\" >\n",
       "#T_1a8b2_row0_col0,#T_1a8b2_row0_col1,#T_1a8b2_row0_col2,#T_1a8b2_row0_col3{\n",
       "            background-color:  #000000;\n",
       "            color:  #f1f1f1;\n",
       "        }#T_1a8b2_row1_col0,#T_1a8b2_row1_col1,#T_1a8b2_row1_col2,#T_1a8b2_row1_col3{\n",
       "            background-color:  #ffffff;\n",
       "            color:  #000000;\n",
       "        }#T_1a8b2_row2_col0,#T_1a8b2_row2_col2,#T_1a8b2_row2_col3{\n",
       "            background-color:  #21212e;\n",
       "            color:  #f1f1f1;\n",
       "        }#T_1a8b2_row2_col1{\n",
       "            background-color:  #111117;\n",
       "            color:  #f1f1f1;\n",
       "        }</style><table id=\"T_1a8b2_\" ><thead>    <tr>        <th class=\"blank level0\" ></th>        <th class=\"col_heading level0 col0\" >mean</th>        <th class=\"col_heading level0 col1\" >count</th>        <th class=\"col_heading level0 col2\" >diff</th>        <th class=\"col_heading level0 col3\" >risk</th>    </tr>    <tr>        <th class=\"index_name level0\" >streamingtv</th>        <th class=\"blank\" ></th>        <th class=\"blank\" ></th>        <th class=\"blank\" ></th>        <th class=\"blank\" ></th>    </tr></thead><tbody>\n",
       "                <tr>\n",
       "                        <th id=\"T_1a8b2_level0_row0\" class=\"row_heading level0 row0\" >no</th>\n",
       "                        <td id=\"T_1a8b2_row0_col0\" class=\"data row0 col0\" >0.342832</td>\n",
       "                        <td id=\"T_1a8b2_row0_col1\" class=\"data row0 col1\" >2246</td>\n",
       "                        <td id=\"T_1a8b2_row0_col2\" class=\"data row0 col2\" >0.072864</td>\n",
       "                        <td id=\"T_1a8b2_row0_col3\" class=\"data row0 col3\" >1.269897</td>\n",
       "            </tr>\n",
       "            <tr>\n",
       "                        <th id=\"T_1a8b2_level0_row1\" class=\"row_heading level0 row1\" >no_internet_service</th>\n",
       "                        <td id=\"T_1a8b2_row1_col0\" class=\"data row1 col0\" >0.077805</td>\n",
       "                        <td id=\"T_1a8b2_row1_col1\" class=\"data row1 col1\" >1221</td>\n",
       "                        <td id=\"T_1a8b2_row1_col2\" class=\"data row1 col2\" >-0.192163</td>\n",
       "                        <td id=\"T_1a8b2_row1_col3\" class=\"data row1 col3\" >0.288201</td>\n",
       "            </tr>\n",
       "            <tr>\n",
       "                        <th id=\"T_1a8b2_level0_row2\" class=\"row_heading level0 row2\" >yes</th>\n",
       "                        <td id=\"T_1a8b2_row2_col0\" class=\"data row2 col0\" >0.302723</td>\n",
       "                        <td id=\"T_1a8b2_row2_col1\" class=\"data row2 col1\" >2167</td>\n",
       "                        <td id=\"T_1a8b2_row2_col2\" class=\"data row2 col2\" >0.032755</td>\n",
       "                        <td id=\"T_1a8b2_row2_col3\" class=\"data row2 col3\" >1.121328</td>\n",
       "            </tr>\n",
       "    </tbody></table>"
      ],
      "text/plain": [
       "<pandas.io.formats.style.Styler at 0x1c683e76970>"
      ]
     },
     "metadata": {},
     "output_type": "display_data"
    },
    {
     "name": "stdout",
     "output_type": "stream",
     "text": [
      "\n",
      "\n",
      "streamingmovies\n"
     ]
    },
    {
     "data": {
      "text/html": [
       "<style  type=\"text/css\" >\n",
       "#T_58ee9_row0_col0,#T_58ee9_row0_col1,#T_58ee9_row0_col2,#T_58ee9_row0_col3{\n",
       "            background-color:  #000000;\n",
       "            color:  #f1f1f1;\n",
       "        }#T_58ee9_row1_col0,#T_58ee9_row1_col1,#T_58ee9_row1_col2,#T_58ee9_row1_col3{\n",
       "            background-color:  #ffffff;\n",
       "            color:  #000000;\n",
       "        }#T_58ee9_row2_col0,#T_58ee9_row2_col2,#T_58ee9_row2_col3{\n",
       "            background-color:  #1b1b26;\n",
       "            color:  #f1f1f1;\n",
       "        }#T_58ee9_row2_col1{\n",
       "            background-color:  #030304;\n",
       "            color:  #f1f1f1;\n",
       "        }</style><table id=\"T_58ee9_\" ><thead>    <tr>        <th class=\"blank level0\" ></th>        <th class=\"col_heading level0 col0\" >mean</th>        <th class=\"col_heading level0 col1\" >count</th>        <th class=\"col_heading level0 col2\" >diff</th>        <th class=\"col_heading level0 col3\" >risk</th>    </tr>    <tr>        <th class=\"index_name level0\" >streamingmovies</th>        <th class=\"blank\" ></th>        <th class=\"blank\" ></th>        <th class=\"blank\" ></th>        <th class=\"blank\" ></th>    </tr></thead><tbody>\n",
       "                <tr>\n",
       "                        <th id=\"T_58ee9_level0_row0\" class=\"row_heading level0 row0\" >no</th>\n",
       "                        <td id=\"T_58ee9_row0_col0\" class=\"data row0 col0\" >0.338906</td>\n",
       "                        <td id=\"T_58ee9_row0_col1\" class=\"data row0 col1\" >2213</td>\n",
       "                        <td id=\"T_58ee9_row0_col2\" class=\"data row0 col2\" >0.068938</td>\n",
       "                        <td id=\"T_58ee9_row0_col3\" class=\"data row0 col3\" >1.255358</td>\n",
       "            </tr>\n",
       "            <tr>\n",
       "                        <th id=\"T_58ee9_level0_row1\" class=\"row_heading level0 row1\" >no_internet_service</th>\n",
       "                        <td id=\"T_58ee9_row1_col0\" class=\"data row1 col0\" >0.077805</td>\n",
       "                        <td id=\"T_58ee9_row1_col1\" class=\"data row1 col1\" >1221</td>\n",
       "                        <td id=\"T_58ee9_row1_col2\" class=\"data row1 col2\" >-0.192163</td>\n",
       "                        <td id=\"T_58ee9_row1_col3\" class=\"data row1 col3\" >0.288201</td>\n",
       "            </tr>\n",
       "            <tr>\n",
       "                        <th id=\"T_58ee9_level0_row2\" class=\"row_heading level0 row2\" >yes</th>\n",
       "                        <td id=\"T_58ee9_row2_col0\" class=\"data row2 col0\" >0.307273</td>\n",
       "                        <td id=\"T_58ee9_row2_col1\" class=\"data row2 col1\" >2200</td>\n",
       "                        <td id=\"T_58ee9_row2_col2\" class=\"data row2 col2\" >0.037305</td>\n",
       "                        <td id=\"T_58ee9_row2_col3\" class=\"data row2 col3\" >1.138182</td>\n",
       "            </tr>\n",
       "    </tbody></table>"
      ],
      "text/plain": [
       "<pandas.io.formats.style.Styler at 0x1c683578310>"
      ]
     },
     "metadata": {},
     "output_type": "display_data"
    },
    {
     "name": "stdout",
     "output_type": "stream",
     "text": [
      "\n",
      "\n",
      "contract\n"
     ]
    },
    {
     "data": {
      "text/html": [
       "<style  type=\"text/css\" >\n",
       "#T_663f8_row0_col0,#T_663f8_row0_col1,#T_663f8_row0_col2,#T_663f8_row0_col3{\n",
       "            background-color:  #000000;\n",
       "            color:  #f1f1f1;\n",
       "        }#T_663f8_row1_col0,#T_663f8_row1_col2,#T_663f8_row1_col3{\n",
       "            background-color:  #b0cccc;\n",
       "            color:  #000000;\n",
       "        }#T_663f8_row1_col1,#T_663f8_row2_col0,#T_663f8_row2_col2,#T_663f8_row2_col3{\n",
       "            background-color:  #ffffff;\n",
       "            color:  #000000;\n",
       "        }#T_663f8_row2_col1{\n",
       "            background-color:  #e2eded;\n",
       "            color:  #000000;\n",
       "        }</style><table id=\"T_663f8_\" ><thead>    <tr>        <th class=\"blank level0\" ></th>        <th class=\"col_heading level0 col0\" >mean</th>        <th class=\"col_heading level0 col1\" >count</th>        <th class=\"col_heading level0 col2\" >diff</th>        <th class=\"col_heading level0 col3\" >risk</th>    </tr>    <tr>        <th class=\"index_name level0\" >contract</th>        <th class=\"blank\" ></th>        <th class=\"blank\" ></th>        <th class=\"blank\" ></th>        <th class=\"blank\" ></th>    </tr></thead><tbody>\n",
       "                <tr>\n",
       "                        <th id=\"T_663f8_level0_row0\" class=\"row_heading level0 row0\" >month-to-month</th>\n",
       "                        <td id=\"T_663f8_row0_col0\" class=\"data row0 col0\" >0.431701</td>\n",
       "                        <td id=\"T_663f8_row0_col1\" class=\"data row0 col1\" >3104</td>\n",
       "                        <td id=\"T_663f8_row0_col2\" class=\"data row0 col2\" >0.161733</td>\n",
       "                        <td id=\"T_663f8_row0_col3\" class=\"data row0 col3\" >1.599082</td>\n",
       "            </tr>\n",
       "            <tr>\n",
       "                        <th id=\"T_663f8_level0_row1\" class=\"row_heading level0 row1\" >one_year</th>\n",
       "                        <td id=\"T_663f8_row1_col0\" class=\"data row1 col0\" >0.120573</td>\n",
       "                        <td id=\"T_663f8_row1_col1\" class=\"data row1 col1\" >1186</td>\n",
       "                        <td id=\"T_663f8_row1_col2\" class=\"data row1 col2\" >-0.149395</td>\n",
       "                        <td id=\"T_663f8_row1_col3\" class=\"data row1 col3\" >0.446621</td>\n",
       "            </tr>\n",
       "            <tr>\n",
       "                        <th id=\"T_663f8_level0_row2\" class=\"row_heading level0 row2\" >two_year</th>\n",
       "                        <td id=\"T_663f8_row2_col0\" class=\"data row2 col0\" >0.028274</td>\n",
       "                        <td id=\"T_663f8_row2_col1\" class=\"data row2 col1\" >1344</td>\n",
       "                        <td id=\"T_663f8_row2_col2\" class=\"data row2 col2\" >-0.241694</td>\n",
       "                        <td id=\"T_663f8_row2_col3\" class=\"data row2 col3\" >0.104730</td>\n",
       "            </tr>\n",
       "    </tbody></table>"
      ],
      "text/plain": [
       "<pandas.io.formats.style.Styler at 0x1c6fe15efd0>"
      ]
     },
     "metadata": {},
     "output_type": "display_data"
    },
    {
     "name": "stdout",
     "output_type": "stream",
     "text": [
      "\n",
      "\n",
      "paperlessbilling\n"
     ]
    },
    {
     "data": {
      "text/html": [
       "<style  type=\"text/css\" >\n",
       "#T_038ab_row0_col0,#T_038ab_row0_col1,#T_038ab_row0_col2,#T_038ab_row0_col3{\n",
       "            background-color:  #ffffff;\n",
       "            color:  #000000;\n",
       "        }#T_038ab_row1_col0,#T_038ab_row1_col1,#T_038ab_row1_col2,#T_038ab_row1_col3{\n",
       "            background-color:  #000000;\n",
       "            color:  #f1f1f1;\n",
       "        }</style><table id=\"T_038ab_\" ><thead>    <tr>        <th class=\"blank level0\" ></th>        <th class=\"col_heading level0 col0\" >mean</th>        <th class=\"col_heading level0 col1\" >count</th>        <th class=\"col_heading level0 col2\" >diff</th>        <th class=\"col_heading level0 col3\" >risk</th>    </tr>    <tr>        <th class=\"index_name level0\" >paperlessbilling</th>        <th class=\"blank\" ></th>        <th class=\"blank\" ></th>        <th class=\"blank\" ></th>        <th class=\"blank\" ></th>    </tr></thead><tbody>\n",
       "                <tr>\n",
       "                        <th id=\"T_038ab_level0_row0\" class=\"row_heading level0 row0\" >no</th>\n",
       "                        <td id=\"T_038ab_row0_col0\" class=\"data row0 col0\" >0.172071</td>\n",
       "                        <td id=\"T_038ab_row0_col1\" class=\"data row0 col1\" >2313</td>\n",
       "                        <td id=\"T_038ab_row0_col2\" class=\"data row0 col2\" >-0.097897</td>\n",
       "                        <td id=\"T_038ab_row0_col3\" class=\"data row0 col3\" >0.637375</td>\n",
       "            </tr>\n",
       "            <tr>\n",
       "                        <th id=\"T_038ab_level0_row1\" class=\"row_heading level0 row1\" >yes</th>\n",
       "                        <td id=\"T_038ab_row1_col0\" class=\"data row1 col0\" >0.338151</td>\n",
       "                        <td id=\"T_038ab_row1_col1\" class=\"data row1 col1\" >3321</td>\n",
       "                        <td id=\"T_038ab_row1_col2\" class=\"data row1 col2\" >0.068183</td>\n",
       "                        <td id=\"T_038ab_row1_col3\" class=\"data row1 col3\" >1.252560</td>\n",
       "            </tr>\n",
       "    </tbody></table>"
      ],
      "text/plain": [
       "<pandas.io.formats.style.Styler at 0x1c68166f880>"
      ]
     },
     "metadata": {},
     "output_type": "display_data"
    },
    {
     "name": "stdout",
     "output_type": "stream",
     "text": [
      "\n",
      "\n",
      "paymentmethod\n"
     ]
    },
    {
     "data": {
      "text/html": [
       "<style  type=\"text/css\" >\n",
       "#T_459b9_row0_col0,#T_459b9_row0_col2,#T_459b9_row0_col3{\n",
       "            background-color:  #fbfcfc;\n",
       "            color:  #000000;\n",
       "        }#T_459b9_row0_col1,#T_459b9_row1_col0,#T_459b9_row1_col1,#T_459b9_row1_col2,#T_459b9_row1_col3{\n",
       "            background-color:  #ffffff;\n",
       "            color:  #000000;\n",
       "        }#T_459b9_row2_col0,#T_459b9_row2_col1,#T_459b9_row2_col2,#T_459b9_row2_col3{\n",
       "            background-color:  #000000;\n",
       "            color:  #f1f1f1;\n",
       "        }#T_459b9_row3_col0,#T_459b9_row3_col2,#T_459b9_row3_col3{\n",
       "            background-color:  #dde9e9;\n",
       "            color:  #000000;\n",
       "        }#T_459b9_row3_col1{\n",
       "            background-color:  #d2e2e2;\n",
       "            color:  #000000;\n",
       "        }</style><table id=\"T_459b9_\" ><thead>    <tr>        <th class=\"blank level0\" ></th>        <th class=\"col_heading level0 col0\" >mean</th>        <th class=\"col_heading level0 col1\" >count</th>        <th class=\"col_heading level0 col2\" >diff</th>        <th class=\"col_heading level0 col3\" >risk</th>    </tr>    <tr>        <th class=\"index_name level0\" >paymentmethod</th>        <th class=\"blank\" ></th>        <th class=\"blank\" ></th>        <th class=\"blank\" ></th>        <th class=\"blank\" ></th>    </tr></thead><tbody>\n",
       "                <tr>\n",
       "                        <th id=\"T_459b9_level0_row0\" class=\"row_heading level0 row0\" >bank_transfer_(automatic)</th>\n",
       "                        <td id=\"T_459b9_row0_col0\" class=\"data row0 col0\" >0.168171</td>\n",
       "                        <td id=\"T_459b9_row0_col1\" class=\"data row0 col1\" >1219</td>\n",
       "                        <td id=\"T_459b9_row0_col2\" class=\"data row0 col2\" >-0.101797</td>\n",
       "                        <td id=\"T_459b9_row0_col3\" class=\"data row0 col3\" >0.622928</td>\n",
       "            </tr>\n",
       "            <tr>\n",
       "                        <th id=\"T_459b9_level0_row1\" class=\"row_heading level0 row1\" >credit_card_(automatic)</th>\n",
       "                        <td id=\"T_459b9_row1_col0\" class=\"data row1 col0\" >0.164339</td>\n",
       "                        <td id=\"T_459b9_row1_col1\" class=\"data row1 col1\" >1217</td>\n",
       "                        <td id=\"T_459b9_row1_col2\" class=\"data row1 col2\" >-0.105630</td>\n",
       "                        <td id=\"T_459b9_row1_col3\" class=\"data row1 col3\" >0.608733</td>\n",
       "            </tr>\n",
       "            <tr>\n",
       "                        <th id=\"T_459b9_level0_row2\" class=\"row_heading level0 row2\" >electronic_check</th>\n",
       "                        <td id=\"T_459b9_row2_col0\" class=\"data row2 col0\" >0.455890</td>\n",
       "                        <td id=\"T_459b9_row2_col1\" class=\"data row2 col1\" >1893</td>\n",
       "                        <td id=\"T_459b9_row2_col2\" class=\"data row2 col2\" >0.185922</td>\n",
       "                        <td id=\"T_459b9_row2_col3\" class=\"data row2 col3\" >1.688682</td>\n",
       "            </tr>\n",
       "            <tr>\n",
       "                        <th id=\"T_459b9_level0_row3\" class=\"row_heading level0 row3\" >mailed_check</th>\n",
       "                        <td id=\"T_459b9_row3_col0\" class=\"data row3 col0\" >0.193870</td>\n",
       "                        <td id=\"T_459b9_row3_col1\" class=\"data row3 col1\" >1305</td>\n",
       "                        <td id=\"T_459b9_row3_col2\" class=\"data row3 col2\" >-0.076098</td>\n",
       "                        <td id=\"T_459b9_row3_col3\" class=\"data row3 col3\" >0.718121</td>\n",
       "            </tr>\n",
       "    </tbody></table>"
      ],
      "text/plain": [
       "<pandas.io.formats.style.Styler at 0x1c6fe29db80>"
      ]
     },
     "metadata": {},
     "output_type": "display_data"
    },
    {
     "name": "stdout",
     "output_type": "stream",
     "text": [
      "\n",
      "\n",
      "seniorcitizen\n"
     ]
    },
    {
     "data": {
      "text/html": [
       "<style  type=\"text/css\" >\n",
       "#T_d7e0a_row0_col0,#T_d7e0a_row0_col2,#T_d7e0a_row0_col3,#T_d7e0a_row1_col1{\n",
       "            background-color:  #ffffff;\n",
       "            color:  #000000;\n",
       "        }#T_d7e0a_row0_col1,#T_d7e0a_row1_col0,#T_d7e0a_row1_col2,#T_d7e0a_row1_col3{\n",
       "            background-color:  #000000;\n",
       "            color:  #f1f1f1;\n",
       "        }</style><table id=\"T_d7e0a_\" ><thead>    <tr>        <th class=\"blank level0\" ></th>        <th class=\"col_heading level0 col0\" >mean</th>        <th class=\"col_heading level0 col1\" >count</th>        <th class=\"col_heading level0 col2\" >diff</th>        <th class=\"col_heading level0 col3\" >risk</th>    </tr>    <tr>        <th class=\"index_name level0\" >seniorcitizen</th>        <th class=\"blank\" ></th>        <th class=\"blank\" ></th>        <th class=\"blank\" ></th>        <th class=\"blank\" ></th>    </tr></thead><tbody>\n",
       "                <tr>\n",
       "                        <th id=\"T_d7e0a_level0_row0\" class=\"row_heading level0 row0\" >0</th>\n",
       "                        <td id=\"T_d7e0a_row0_col0\" class=\"data row0 col0\" >0.242270</td>\n",
       "                        <td id=\"T_d7e0a_row0_col1\" class=\"data row0 col1\" >4722</td>\n",
       "                        <td id=\"T_d7e0a_row0_col2\" class=\"data row0 col2\" >-0.027698</td>\n",
       "                        <td id=\"T_d7e0a_row0_col3\" class=\"data row0 col3\" >0.897403</td>\n",
       "            </tr>\n",
       "            <tr>\n",
       "                        <th id=\"T_d7e0a_level0_row1\" class=\"row_heading level0 row1\" >1</th>\n",
       "                        <td id=\"T_d7e0a_row1_col0\" class=\"data row1 col0\" >0.413377</td>\n",
       "                        <td id=\"T_d7e0a_row1_col1\" class=\"data row1 col1\" >912</td>\n",
       "                        <td id=\"T_d7e0a_row1_col2\" class=\"data row1 col2\" >0.143409</td>\n",
       "                        <td id=\"T_d7e0a_row1_col3\" class=\"data row1 col3\" >1.531208</td>\n",
       "            </tr>\n",
       "    </tbody></table>"
      ],
      "text/plain": [
       "<pandas.io.formats.style.Styler at 0x1c6fe15e3d0>"
      ]
     },
     "metadata": {},
     "output_type": "display_data"
    },
    {
     "name": "stdout",
     "output_type": "stream",
     "text": [
      "\n",
      "\n"
     ]
    }
   ],
   "source": [
    "global_churn = df_full_train.churn.mean()\n",
    "\n",
    "for c in categorical:\n",
    "    print(c)\n",
    "    df_group = df_full_train.groupby(c)['churn'].agg(['mean', 'count'])\n",
    "    df_group['diff'] = df_group['mean'] - global_churn\n",
    "    df_group['risk'] = df_group['mean'] / global_churn\n",
    "    display(df_group.style.background_gradient(\"bone_r\"))\n",
    "    print()\n",
    "    print()"
   ]
  },
  {
   "cell_type": "markdown",
   "id": "6d9bac40",
   "metadata": {},
   "source": [
    "### Feature Importance: Correlation"
   ]
  },
  {
   "cell_type": "code",
   "execution_count": 69,
   "id": "095b82bd",
   "metadata": {},
   "outputs": [
    {
     "data": {
      "text/html": [
       "<style  type=\"text/css\" >\n",
       "#T_83ec6_row0_col1{\n",
       "            background-color:  #2c3172;\n",
       "            color:  #f1f1f1;\n",
       "        }#T_83ec6_row1_col1{\n",
       "            background-color:  #1f6f8a;\n",
       "            color:  #f1f1f1;\n",
       "        }#T_83ec6_row2_col1{\n",
       "            background-color:  #21738b;\n",
       "            color:  #f1f1f1;\n",
       "        }#T_83ec6_row3_col1{\n",
       "            background-color:  #287b8c;\n",
       "            color:  #000000;\n",
       "        }#T_83ec6_row4_col1{\n",
       "            background-color:  #37888e;\n",
       "            color:  #000000;\n",
       "        }#T_83ec6_row5_col1,#T_83ec6_row6_col1{\n",
       "            background-color:  #3e8e8e;\n",
       "            color:  #000000;\n",
       "        }#T_83ec6_row7_col1,#T_83ec6_row8_col1{\n",
       "            background-color:  #52a090;\n",
       "            color:  #000000;\n",
       "        }#T_83ec6_row9_col1{\n",
       "            background-color:  #73b590;\n",
       "            color:  #000000;\n",
       "        }#T_83ec6_row10_col1{\n",
       "            background-color:  #82bc91;\n",
       "            color:  #000000;\n",
       "        }#T_83ec6_row11_col1{\n",
       "            background-color:  #89bf91;\n",
       "            color:  #000000;\n",
       "        }#T_83ec6_row12_col1{\n",
       "            background-color:  #8ac091;\n",
       "            color:  #000000;\n",
       "        }#T_83ec6_row13_col1{\n",
       "            background-color:  #a4cc90;\n",
       "            color:  #000000;\n",
       "        }#T_83ec6_row14_col1,#T_83ec6_row15_col1{\n",
       "            background-color:  #a5cd90;\n",
       "            color:  #000000;\n",
       "        }</style><table id=\"T_83ec6_\" ><thead>    <tr>        <th class=\"blank level0\" ></th>        <th class=\"col_heading level0 col0\" >Variables</th>        <th class=\"col_heading level0 col1\" >Improtance</th>    </tr></thead><tbody>\n",
       "                <tr>\n",
       "                        <th id=\"T_83ec6_level0_row0\" class=\"row_heading level0 row0\" >0</th>\n",
       "                        <td id=\"T_83ec6_row0_col0\" class=\"data row0 col0\" >contract</td>\n",
       "                        <td id=\"T_83ec6_row0_col1\" class=\"data row0 col1\" >0.098320</td>\n",
       "            </tr>\n",
       "            <tr>\n",
       "                        <th id=\"T_83ec6_level0_row1\" class=\"row_heading level0 row1\" >1</th>\n",
       "                        <td id=\"T_83ec6_row1_col0\" class=\"data row1 col0\" >onlinesecurity</td>\n",
       "                        <td id=\"T_83ec6_row1_col1\" class=\"data row1 col1\" >0.063085</td>\n",
       "            </tr>\n",
       "            <tr>\n",
       "                        <th id=\"T_83ec6_level0_row2\" class=\"row_heading level0 row2\" >2</th>\n",
       "                        <td id=\"T_83ec6_row2_col0\" class=\"data row2 col0\" >techsupport</td>\n",
       "                        <td id=\"T_83ec6_row2_col1\" class=\"data row2 col1\" >0.061032</td>\n",
       "            </tr>\n",
       "            <tr>\n",
       "                        <th id=\"T_83ec6_level0_row3\" class=\"row_heading level0 row3\" >3</th>\n",
       "                        <td id=\"T_83ec6_row3_col0\" class=\"data row3 col0\" >internetservice</td>\n",
       "                        <td id=\"T_83ec6_row3_col1\" class=\"data row3 col1\" >0.055868</td>\n",
       "            </tr>\n",
       "            <tr>\n",
       "                        <th id=\"T_83ec6_level0_row4\" class=\"row_heading level0 row4\" >4</th>\n",
       "                        <td id=\"T_83ec6_row4_col0\" class=\"data row4 col0\" >onlinebackup</td>\n",
       "                        <td id=\"T_83ec6_row4_col1\" class=\"data row4 col1\" >0.046923</td>\n",
       "            </tr>\n",
       "            <tr>\n",
       "                        <th id=\"T_83ec6_level0_row5\" class=\"row_heading level0 row5\" >5</th>\n",
       "                        <td id=\"T_83ec6_row5_col0\" class=\"data row5 col0\" >deviceprotection</td>\n",
       "                        <td id=\"T_83ec6_row5_col1\" class=\"data row5 col1\" >0.043453</td>\n",
       "            </tr>\n",
       "            <tr>\n",
       "                        <th id=\"T_83ec6_level0_row6\" class=\"row_heading level0 row6\" >6</th>\n",
       "                        <td id=\"T_83ec6_row6_col0\" class=\"data row6 col0\" >paymentmethod</td>\n",
       "                        <td id=\"T_83ec6_row6_col1\" class=\"data row6 col1\" >0.043210</td>\n",
       "            </tr>\n",
       "            <tr>\n",
       "                        <th id=\"T_83ec6_level0_row7\" class=\"row_heading level0 row7\" >7</th>\n",
       "                        <td id=\"T_83ec6_row7_col0\" class=\"data row7 col0\" >streamingtv</td>\n",
       "                        <td id=\"T_83ec6_row7_col1\" class=\"data row7 col1\" >0.031853</td>\n",
       "            </tr>\n",
       "            <tr>\n",
       "                        <th id=\"T_83ec6_level0_row8\" class=\"row_heading level0 row8\" >8</th>\n",
       "                        <td id=\"T_83ec6_row8_col0\" class=\"data row8 col0\" >streamingmovies</td>\n",
       "                        <td id=\"T_83ec6_row8_col1\" class=\"data row8 col1\" >0.031581</td>\n",
       "            </tr>\n",
       "            <tr>\n",
       "                        <th id=\"T_83ec6_level0_row9\" class=\"row_heading level0 row9\" >9</th>\n",
       "                        <td id=\"T_83ec6_row9_col0\" class=\"data row9 col0\" >paperlessbilling</td>\n",
       "                        <td id=\"T_83ec6_row9_col1\" class=\"data row9 col1\" >0.017589</td>\n",
       "            </tr>\n",
       "            <tr>\n",
       "                        <th id=\"T_83ec6_level0_row10\" class=\"row_heading level0 row10\" >10</th>\n",
       "                        <td id=\"T_83ec6_row10_col0\" class=\"data row10 col0\" >dependents</td>\n",
       "                        <td id=\"T_83ec6_row10_col1\" class=\"data row10 col1\" >0.012346</td>\n",
       "            </tr>\n",
       "            <tr>\n",
       "                        <th id=\"T_83ec6_level0_row11\" class=\"row_heading level0 row11\" >11</th>\n",
       "                        <td id=\"T_83ec6_row11_col0\" class=\"data row11 col0\" >partner</td>\n",
       "                        <td id=\"T_83ec6_row11_col1\" class=\"data row11 col1\" >0.009968</td>\n",
       "            </tr>\n",
       "            <tr>\n",
       "                        <th id=\"T_83ec6_level0_row12\" class=\"row_heading level0 row12\" >12</th>\n",
       "                        <td id=\"T_83ec6_row12_col0\" class=\"data row12 col0\" >seniorcitizen</td>\n",
       "                        <td id=\"T_83ec6_row12_col1\" class=\"data row12 col1\" >0.009410</td>\n",
       "            </tr>\n",
       "            <tr>\n",
       "                        <th id=\"T_83ec6_level0_row13\" class=\"row_heading level0 row13\" >13</th>\n",
       "                        <td id=\"T_83ec6_row13_col0\" class=\"data row13 col0\" >multiplelines</td>\n",
       "                        <td id=\"T_83ec6_row13_col1\" class=\"data row13 col1\" >0.000857</td>\n",
       "            </tr>\n",
       "            <tr>\n",
       "                        <th id=\"T_83ec6_level0_row14\" class=\"row_heading level0 row14\" >14</th>\n",
       "                        <td id=\"T_83ec6_row14_col0\" class=\"data row14 col0\" >phoneservice</td>\n",
       "                        <td id=\"T_83ec6_row14_col1\" class=\"data row14 col1\" >0.000229</td>\n",
       "            </tr>\n",
       "            <tr>\n",
       "                        <th id=\"T_83ec6_level0_row15\" class=\"row_heading level0 row15\" >15</th>\n",
       "                        <td id=\"T_83ec6_row15_col0\" class=\"data row15 col0\" >gender</td>\n",
       "                        <td id=\"T_83ec6_row15_col1\" class=\"data row15 col1\" >0.000117</td>\n",
       "            </tr>\n",
       "    </tbody></table>"
      ],
      "text/plain": [
       "<pandas.io.formats.style.Styler at 0x1c68164c070>"
      ]
     },
     "execution_count": 69,
     "metadata": {},
     "output_type": "execute_result"
    }
   ],
   "source": [
    "from sklearn.metrics import mutual_info_score\n",
    "\n",
    "def mutual_info_churn_score(series):\n",
    "    return mutual_info_score(series, df_full_train.churn)\n",
    "\n",
    "mi = df_full_train[categorical].apply(mutual_info_churn_score)\n",
    "mi.sort_values(ascending = False).to_frame().reset_index().rename({'index': 'Variables', 0: 'Improtance'}, axis = 1).style.background_gradient('crest')"
   ]
  },
  {
   "cell_type": "markdown",
   "id": "8074fff2",
   "metadata": {},
   "source": [
    "### Feature Importance: Mutual Information"
   ]
  },
  {
   "cell_type": "code",
   "execution_count": 70,
   "id": "6c896e9d",
   "metadata": {},
   "outputs": [
    {
     "data": {
      "text/plain": [
       "tenure           -0.351885\n",
       "monthlycharges    0.196805\n",
       "totalcharges     -0.196353\n",
       "dtype: float64"
      ]
     },
     "execution_count": 70,
     "metadata": {},
     "output_type": "execute_result"
    }
   ],
   "source": [
    "\"\"\"Checking the correaltion of numerical Columns with Target variable churn\"\"\"\n",
    "\n",
    "df_full_train[numerical].corrwith(df_full_train.churn)"
   ]
  },
  {
   "cell_type": "code",
   "execution_count": 71,
   "id": "fe9c5a6c",
   "metadata": {},
   "outputs": [
    {
     "data": {
      "text/html": [
       "<div>\n",
       "<style scoped>\n",
       "    .dataframe tbody tr th:only-of-type {\n",
       "        vertical-align: middle;\n",
       "    }\n",
       "\n",
       "    .dataframe tbody tr th {\n",
       "        vertical-align: top;\n",
       "    }\n",
       "\n",
       "    .dataframe thead th {\n",
       "        text-align: right;\n",
       "    }\n",
       "</style>\n",
       "<table border=\"1\" class=\"dataframe\">\n",
       "  <thead>\n",
       "    <tr style=\"text-align: right;\">\n",
       "      <th></th>\n",
       "      <th>tenure</th>\n",
       "      <th>monthlycharges</th>\n",
       "      <th>totalcharges</th>\n",
       "    </tr>\n",
       "  </thead>\n",
       "  <tbody>\n",
       "    <tr>\n",
       "      <th>tenure</th>\n",
       "      <td>1.000000</td>\n",
       "      <td>0.247900</td>\n",
       "      <td>0.826178</td>\n",
       "    </tr>\n",
       "    <tr>\n",
       "      <th>monthlycharges</th>\n",
       "      <td>0.247900</td>\n",
       "      <td>1.000000</td>\n",
       "      <td>0.651174</td>\n",
       "    </tr>\n",
       "    <tr>\n",
       "      <th>totalcharges</th>\n",
       "      <td>0.826178</td>\n",
       "      <td>0.651174</td>\n",
       "      <td>1.000000</td>\n",
       "    </tr>\n",
       "  </tbody>\n",
       "</table>\n",
       "</div>"
      ],
      "text/plain": [
       "                  tenure  monthlycharges  totalcharges\n",
       "tenure          1.000000        0.247900      0.826178\n",
       "monthlycharges  0.247900        1.000000      0.651174\n",
       "totalcharges    0.826178        0.651174      1.000000"
      ]
     },
     "execution_count": 71,
     "metadata": {},
     "output_type": "execute_result"
    }
   ],
   "source": [
    "\"\"\"Correlation matrix\"\"\"\n",
    "df[numerical].corr()"
   ]
  },
  {
   "cell_type": "code",
   "execution_count": 72,
   "id": "cb740f73",
   "metadata": {},
   "outputs": [
    {
     "data": {
      "text/plain": [
       "<AxesSubplot:>"
      ]
     },
     "execution_count": 72,
     "metadata": {},
     "output_type": "execute_result"
    },
    {
     "data": {
      "image/png": "[encoded data removed]",
      "text/plain": [
       "<Figure size 432x288 with 2 Axes>"
      ]
     },
     "metadata": {
      "needs_background": "light"
     },
     "output_type": "display_data"
    }
   ],
   "source": [
    "\"\"\"Using heatmap\"\"\"\n",
    "sns.heatmap(df[numerical].corr(), square = True, annot = True, lw = 0.2)"
   ]
  },
  {
   "cell_type": "code",
   "execution_count": 73,
   "id": "be41c806",
   "metadata": {},
   "outputs": [
    {
     "name": "stdout",
     "output_type": "stream",
     "text": [
      "Mean Churn Rate when Tenure <= 2:  0.5953420669577875\n",
      "Mean Churn Rate when Tenure between 2 and 12:  0.3994413407821229\n",
      "Mean Churn Rate when Tenure more than 12:  0.17634908339788277\n",
      "\n",
      "Mean Churn Rate when monthlycharges <= 20:  0.08795411089866156\n",
      "Mean Churn Rate when monthlycharges between 20 and 50:  0.18340943683409436\n",
      "Mean Churn Rate when monthlycharges more than 50:  0.32499341585462205\n"
     ]
    }
   ],
   "source": [
    "print(\"Mean Churn Rate when Tenure <= 2: \",df_full_train[df_full_train.tenure <= 2].churn.mean())\n",
    "print(\"Mean Churn Rate when Tenure between 2 and 12: \",df_full_train[(df_full_train.tenure > 2) & (df_full_train.tenure <= 12)].churn.mean())\n",
    "print(\"Mean Churn Rate when Tenure more than 12: \",df_full_train[df_full_train.tenure > 12].churn.mean())\n",
    "print()\n",
    "print(\"Mean Churn Rate when monthlycharges <= 20: \",df_full_train[df_full_train.monthlycharges <= 20].churn.mean())\n",
    "print(\"Mean Churn Rate when monthlycharges between 20 and 50: \",df_full_train[(df_full_train.monthlycharges > 20) & (df_full_train.monthlycharges <= 50)].churn.mean())\n",
    "print(\"Mean Churn Rate when monthlycharges more than 50: \",df_full_train[df_full_train.monthlycharges > 50].churn.mean())"
   ]
  },
  {
   "cell_type": "markdown",
   "id": "fc40de8a",
   "metadata": {},
   "source": [
    "###  One Hot Encoding using DictVectorizer"
   ]
  },
  {
   "cell_type": "code",
   "execution_count": 88,
   "id": "0081b382",
   "metadata": {},
   "outputs": [],
   "source": [
    "from sklearn.feature_extraction import DictVectorizer\n",
    "\n",
    "dv = DictVectorizer(sparse=False)                              \n",
    "\n",
    "train_dict = df_train[useful_features].to_dict(orient='records') # For making dict row-wise we use orient = 'records\n",
    "X_train = dv.fit_transform(train_dict)\n",
    "\n",
    "val_dict = df_val[useful_features].to_dict(orient='records') # For making dict row-wise we use orient = 'records'\n",
    "X_val = dv.transform(val_dict)"
   ]
  },
  {
   "cell_type": "markdown",
   "id": "437abb65",
   "metadata": {},
   "source": [
    "###  Logistic Regression"
   ]
  },
  {
   "cell_type": "code",
   "execution_count": 89,
   "id": "c7b0a799",
   "metadata": {},
   "outputs": [],
   "source": [
    "def sigmoid(z):\n",
    "    return 1 / (1 + np.exp(-z))\n",
    "\n",
    "def linear_regression(xi):\n",
    "    result = w0\n",
    "    \n",
    "    for j in range(len(w)):\n",
    "        result = result + xi[j] * w[j]\n",
    "        \n",
    "    return result\n",
    "\n",
    "def logistic_regression(xi):\n",
    "    score = w0\n",
    "    \n",
    "    for j in range(len(w)):\n",
    "        score = score + xi[j] * w[j]\n",
    "        \n",
    "    result = sigmoid(score)\n",
    "    return result"
   ]
  },
  {
   "cell_type": "markdown",
   "id": "86eb307c",
   "metadata": {},
   "source": [
    "### Training logistic regression with Scikit-Learn"
   ]
  },
  {
   "cell_type": "code",
   "execution_count": 90,
   "id": "a94bd55a",
   "metadata": {},
   "outputs": [
    {
     "data": {
      "text/plain": [
       "LogisticRegression()"
      ]
     },
     "execution_count": 90,
     "metadata": {},
     "output_type": "execute_result"
    }
   ],
   "source": [
    "from sklearn.linear_model import LogisticRegression\n",
    "\n",
    "model = LogisticRegression(solver='lbfgs')\n",
    "\n",
    "model.fit(X_train, y_train)"
   ]
  },
  {
   "cell_type": "code",
   "execution_count": 91,
   "id": "5cc4caeb",
   "metadata": {},
   "outputs": [
    {
     "name": "stdout",
     "output_type": "stream",
     "text": [
      "w0 =  -0.10900684766421853\n",
      "wi =  [ 0.475 -0.175 -0.408 -0.03  -0.078  0.063 -0.089 -0.081 -0.034 -0.073\n",
      " -0.335  0.317 -0.089  0.004 -0.258  0.141  0.009  0.063 -0.089 -0.081\n",
      "  0.266 -0.089 -0.284 -0.231  0.124 -0.166  0.058 -0.087 -0.032  0.071\n",
      " -0.059  0.141 -0.249  0.216 -0.12  -0.089  0.102 -0.071 -0.089  0.052\n",
      "  0.213 -0.089 -0.232 -0.07   0.   ]\n"
     ]
    }
   ],
   "source": [
    "print(\"w0 = \", model.intercept_[0])\n",
    "\n",
    "print(\"wi = \",model.coef_[0].round(3))"
   ]
  },
  {
   "cell_type": "code",
   "execution_count": 92,
   "id": "90604dfe",
   "metadata": {},
   "outputs": [
    {
     "data": {
      "text/plain": [
       "0.8034066713981547"
      ]
     },
     "execution_count": 92,
     "metadata": {},
     "output_type": "execute_result"
    }
   ],
   "source": [
    "\"\"\"Applying the model to Validation set to predict the probability\"\"\"\n",
    "y_pred = model.predict_proba(X_val)[:, 1]\n",
    "\n",
    "\"\"\"Making churn decision using probability threshold of 0.5\"\"\"\n",
    "churn_decision = (y_pred >= 0.5)\n",
    "\n",
    "\"\"\"Accuracy Rate: mean of correct predictions\"\"\"\n",
    "(y_val == churn_decision).mean()"
   ]
  },
  {
   "cell_type": "code",
   "execution_count": 93,
   "id": "4ab9e89b",
   "metadata": {},
   "outputs": [
    {
     "data": {
      "text/html": [
       "<div>\n",
       "<style scoped>\n",
       "    .dataframe tbody tr th:only-of-type {\n",
       "        vertical-align: middle;\n",
       "    }\n",
       "\n",
       "    .dataframe tbody tr th {\n",
       "        vertical-align: top;\n",
       "    }\n",
       "\n",
       "    .dataframe thead th {\n",
       "        text-align: right;\n",
       "    }\n",
       "</style>\n",
       "<table border=\"1\" class=\"dataframe\">\n",
       "  <thead>\n",
       "    <tr style=\"text-align: right;\">\n",
       "      <th></th>\n",
       "      <th>probability</th>\n",
       "      <th>prediction</th>\n",
       "      <th>actual</th>\n",
       "      <th>correct</th>\n",
       "    </tr>\n",
       "  </thead>\n",
       "  <tbody>\n",
       "    <tr>\n",
       "      <th>0</th>\n",
       "      <td>0.008997</td>\n",
       "      <td>0</td>\n",
       "      <td>0</td>\n",
       "      <td>True</td>\n",
       "    </tr>\n",
       "    <tr>\n",
       "      <th>1</th>\n",
       "      <td>0.204631</td>\n",
       "      <td>0</td>\n",
       "      <td>0</td>\n",
       "      <td>True</td>\n",
       "    </tr>\n",
       "    <tr>\n",
       "      <th>2</th>\n",
       "      <td>0.212349</td>\n",
       "      <td>0</td>\n",
       "      <td>0</td>\n",
       "      <td>True</td>\n",
       "    </tr>\n",
       "    <tr>\n",
       "      <th>3</th>\n",
       "      <td>0.543107</td>\n",
       "      <td>1</td>\n",
       "      <td>1</td>\n",
       "      <td>True</td>\n",
       "    </tr>\n",
       "    <tr>\n",
       "      <th>4</th>\n",
       "      <td>0.213905</td>\n",
       "      <td>0</td>\n",
       "      <td>0</td>\n",
       "      <td>True</td>\n",
       "    </tr>\n",
       "    <tr>\n",
       "      <th>...</th>\n",
       "      <td>...</td>\n",
       "      <td>...</td>\n",
       "      <td>...</td>\n",
       "      <td>...</td>\n",
       "    </tr>\n",
       "    <tr>\n",
       "      <th>1404</th>\n",
       "      <td>0.313802</td>\n",
       "      <td>0</td>\n",
       "      <td>0</td>\n",
       "      <td>True</td>\n",
       "    </tr>\n",
       "    <tr>\n",
       "      <th>1405</th>\n",
       "      <td>0.039366</td>\n",
       "      <td>0</td>\n",
       "      <td>1</td>\n",
       "      <td>False</td>\n",
       "    </tr>\n",
       "    <tr>\n",
       "      <th>1406</th>\n",
       "      <td>0.136403</td>\n",
       "      <td>0</td>\n",
       "      <td>0</td>\n",
       "      <td>True</td>\n",
       "    </tr>\n",
       "    <tr>\n",
       "      <th>1407</th>\n",
       "      <td>0.799830</td>\n",
       "      <td>1</td>\n",
       "      <td>1</td>\n",
       "      <td>True</td>\n",
       "    </tr>\n",
       "    <tr>\n",
       "      <th>1408</th>\n",
       "      <td>0.837463</td>\n",
       "      <td>1</td>\n",
       "      <td>1</td>\n",
       "      <td>True</td>\n",
       "    </tr>\n",
       "  </tbody>\n",
       "</table>\n",
       "<p>1409 rows × 4 columns</p>\n",
       "</div>"
      ],
      "text/plain": [
       "      probability  prediction  actual  correct\n",
       "0        0.008997           0       0     True\n",
       "1        0.204631           0       0     True\n",
       "2        0.212349           0       0     True\n",
       "3        0.543107           1       1     True\n",
       "4        0.213905           0       0     True\n",
       "...           ...         ...     ...      ...\n",
       "1404     0.313802           0       0     True\n",
       "1405     0.039366           0       1    False\n",
       "1406     0.136403           0       0     True\n",
       "1407     0.799830           1       1     True\n",
       "1408     0.837463           1       1     True\n",
       "\n",
       "[1409 rows x 4 columns]"
      ]
     },
     "metadata": {},
     "output_type": "display_data"
    },
    {
     "data": {
      "text/plain": [
       "'Accuracy Rate'"
      ]
     },
     "metadata": {},
     "output_type": "display_data"
    },
    {
     "data": {
      "text/plain": [
       "0.8034066713981547"
      ]
     },
     "metadata": {},
     "output_type": "display_data"
    }
   ],
   "source": [
    "\"\"\"Observe the above result in a dataset\"\"\"\n",
    "df_pred = pd.DataFrame()\n",
    "df_pred['probability'] = y_pred\n",
    "df_pred['prediction'] = churn_decision.astype(int)\n",
    "df_pred['actual'] = y_val\n",
    "\n",
    "df_pred['correct'] = df_pred.prediction == df_pred.actual\n",
    "display(df_pred)\n",
    "display(\"Accuracy Rate\", df_pred['correct'].mean())"
   ]
  },
  {
   "cell_type": "markdown",
   "id": "11b9e215",
   "metadata": {},
   "source": [
    "### Model interpretation"
   ]
  },
  {
   "cell_type": "code",
   "execution_count": 94,
   "id": "bb600171",
   "metadata": {},
   "outputs": [
    {
     "data": {
      "text/plain": [
       "{1: 'a', 2: 'b', 3: 'c', 4: 'd'}"
      ]
     },
     "execution_count": 94,
     "metadata": {},
     "output_type": "execute_result"
    }
   ],
   "source": [
    "a = [1, 2, 3, 4]\n",
    "b = 'abcd'\n",
    "\n",
    "\"\"\"zip() comnines the both values by position\"\"\"\n",
    "dict(zip(a, b))"
   ]
  },
  {
   "cell_type": "code",
   "execution_count": 95,
   "id": "b10f99f5",
   "metadata": {},
   "outputs": [
    {
     "data": {
      "text/plain": [
       "{'contract=month-to-month': 0.475,\n",
       " 'contract=one_year': -0.175,\n",
       " 'contract=two_year': -0.408,\n",
       " 'dependents=no': -0.03,\n",
       " 'dependents=yes': -0.078,\n",
       " 'deviceprotection=no': 0.063,\n",
       " 'deviceprotection=no_internet_service': -0.089,\n",
       " 'deviceprotection=yes': -0.081,\n",
       " 'gender=female': -0.034,\n",
       " 'gender=male': -0.073,\n",
       " 'internetservice=dsl': -0.335,\n",
       " 'internetservice=fiber_optic': 0.317,\n",
       " 'internetservice=no': -0.089,\n",
       " 'monthlycharges': 0.004,\n",
       " 'multiplelines=no': -0.258,\n",
       " 'multiplelines=no_phone_service': 0.141,\n",
       " 'multiplelines=yes': 0.009,\n",
       " 'onlinebackup=no': 0.063,\n",
       " 'onlinebackup=no_internet_service': -0.089,\n",
       " 'onlinebackup=yes': -0.081,\n",
       " 'onlinesecurity=no': 0.266,\n",
       " 'onlinesecurity=no_internet_service': -0.089,\n",
       " 'onlinesecurity=yes': -0.284,\n",
       " 'paperlessbilling=no': -0.231,\n",
       " 'paperlessbilling=yes': 0.124,\n",
       " 'partner=no': -0.166,\n",
       " 'partner=yes': 0.058,\n",
       " 'paymentmethod=bank_transfer_(automatic)': -0.087,\n",
       " 'paymentmethod=credit_card_(automatic)': -0.032,\n",
       " 'paymentmethod=electronic_check': 0.071,\n",
       " 'paymentmethod=mailed_check': -0.059,\n",
       " 'phoneservice=no': 0.141,\n",
       " 'phoneservice=yes': -0.249,\n",
       " 'seniorcitizen': 0.216,\n",
       " 'streamingmovies=no': -0.12,\n",
       " 'streamingmovies=no_internet_service': -0.089,\n",
       " 'streamingmovies=yes': 0.102,\n",
       " 'streamingtv=no': -0.071,\n",
       " 'streamingtv=no_internet_service': -0.089,\n",
       " 'streamingtv=yes': 0.052,\n",
       " 'techsupport=no': 0.213,\n",
       " 'techsupport=no_internet_service': -0.089,\n",
       " 'techsupport=yes': -0.232,\n",
       " 'tenure': -0.07,\n",
       " 'totalcharges': 0.0}"
      ]
     },
     "execution_count": 95,
     "metadata": {},
     "output_type": "execute_result"
    }
   ],
   "source": [
    "\"\"\"Now using zip to combine features and their respective coefficients\"\"\"\n",
    "dict(zip(dv.get_feature_names(), model.coef_[0].round(3)))"
   ]
  },
  {
   "cell_type": "code",
   "execution_count": 96,
   "id": "696ead28",
   "metadata": {},
   "outputs": [
    {
     "data": {
      "text/plain": [
       "['contract=month-to-month',\n",
       " 'contract=one_year',\n",
       " 'contract=two_year',\n",
       " 'monthlycharges',\n",
       " 'tenure']"
      ]
     },
     "execution_count": 96,
     "metadata": {},
     "output_type": "execute_result"
    }
   ],
   "source": [
    "small = ['contract', 'tenure', 'monthlycharges']\n",
    "\n",
    "df_train[small].iloc[:10].to_dict(orient='records')\n",
    "\n",
    "# Creating training and Validation set\n",
    "dicts_train_small = df_train[small].to_dict(orient='records')\n",
    "dicts_val_small = df_val[small].to_dict(orient='records')\n",
    "\n",
    "# Using dictVectorizer for OHE on categorical colums\n",
    "dv_small = DictVectorizer(sparse=False)\n",
    "dv_small.fit(dicts_train_small)\n",
    "\n",
    "# Checking the feature names to see how many new created by DictVectorizer\n",
    "dv_small.get_feature_names()"
   ]
  },
  {
   "cell_type": "code",
   "execution_count": 97,
   "id": "544176a1",
   "metadata": {},
   "outputs": [
    {
     "data": {
      "text/plain": [
       "{'contract=month-to-month': 0.97,\n",
       " 'contract=one_year': -0.025,\n",
       " 'contract=two_year': -0.949,\n",
       " 'monthlycharges': 0.027,\n",
       " 'tenure': -0.036}"
      ]
     },
     "execution_count": 97,
     "metadata": {},
     "output_type": "execute_result"
    }
   ],
   "source": [
    "\"\"\"Creating Training set\"\"\"\n",
    "X_train_small = dv_small.transform(dicts_train_small)\n",
    "\n",
    "\"\"\"making model on Training set\"\"\"\n",
    "model_small = LogisticRegression(solver='lbfgs')\n",
    "model_small.fit(X_train_small, y_train)\n",
    "\n",
    "\"\"\"Assigning variables w0 and wi's to bias term and weights\"\"\"\n",
    "w0 = model_small.intercept_[0]\n",
    "wi = model_small.coef_[0].round(3)\n",
    "\n",
    "\"\"\"Finally zipping w0 and wi understand interpret the model prediction\"\"\"\n",
    "dict(zip(dv_small.get_feature_names(), wi.round(3)))"
   ]
  },
  {
   "cell_type": "code",
   "execution_count": 98,
   "id": "521325b5",
   "metadata": {},
   "outputs": [
    {
     "name": "stdout",
     "output_type": "stream",
     "text": [
      "-3.473\n"
     ]
    },
    {
     "data": {
      "text/plain": [
       "0.030090303318277657"
      ]
     },
     "execution_count": 98,
     "metadata": {},
     "output_type": "execute_result"
    }
   ],
   "source": [
    "print(-2.47 + (-0.949) + 30 * 0.027 + 24 * (-0.036))\n",
    "\n",
    "# Finally using sigmoid function on this value will give us the Probability of customer will churn or not\n",
    "sigmoid(-3.473)"
   ]
  },
  {
   "cell_type": "markdown",
   "id": "e266858c",
   "metadata": {},
   "source": [
    "### Using the model"
   ]
  },
  {
   "cell_type": "code",
   "execution_count": 99,
   "id": "5d687551",
   "metadata": {},
   "outputs": [
    {
     "name": "stdout",
     "output_type": "stream",
     "text": [
      "Accuracy on Test Set:  0.815471965933286\n"
     ]
    }
   ],
   "source": [
    "\"\"\"Now we train the model on the full_train set and predict on test set\"\"\"\n",
    "\n",
    "dicts_full_train = df_full_train[categorical + numerical].to_dict(orient='records')\n",
    "\n",
    "dv = DictVectorizer(sparse=False)\n",
    "X_full_train = dv.fit_transform(dicts_full_train)\n",
    "\n",
    "y_full_train = df_full_train.churn.values\n",
    "\n",
    "model = LogisticRegression(solver='lbfgs')\n",
    "model.fit(X_full_train, y_full_train)\n",
    "\n",
    "dicts_test = df_test[categorical + numerical].to_dict(orient='records')\n",
    "\n",
    "X_test = dv.transform(dicts_test)\n",
    "\n",
    "y_pred = model.predict_proba(X_test)[:, 1]\n",
    "\n",
    "churn_decision = (y_pred >= 0.5)\n",
    "\n",
    "print(\"Accuracy on Test Set: \", (churn_decision == y_test).mean())"
   ]
  },
  {
   "cell_type": "code",
   "execution_count": 100,
   "id": "971a603a",
   "metadata": {},
   "outputs": [
    {
     "data": {
      "text/plain": [
       "{'gender': 'female',\n",
       " 'partner': 'yes',\n",
       " 'dependents': 'yes',\n",
       " 'phoneservice': 'yes',\n",
       " 'multiplelines': 'yes',\n",
       " 'internetservice': 'fiber_optic',\n",
       " 'onlinesecurity': 'yes',\n",
       " 'onlinebackup': 'no',\n",
       " 'deviceprotection': 'yes',\n",
       " 'techsupport': 'no',\n",
       " 'streamingtv': 'yes',\n",
       " 'streamingmovies': 'yes',\n",
       " 'contract': 'month-to-month',\n",
       " 'paperlessbilling': 'yes',\n",
       " 'paymentmethod': 'electronic_check',\n",
       " 'seniorcitizen': 0,\n",
       " 'tenure': 17,\n",
       " 'monthlycharges': 104.2,\n",
       " 'totalcharges': 1743.5}"
      ]
     },
     "execution_count": 100,
     "metadata": {},
     "output_type": "execute_result"
    }
   ],
   "source": [
    "\"\"\"Predicting on an individual customer to check how the model behaves\"\"\"\n",
    "customer = dicts_test[-1]\n",
    "customer"
   ]
  },
  {
   "cell_type": "code",
   "execution_count": 101,
   "id": "58463e12",
   "metadata": {},
   "outputs": [
    {
     "name": "stdout",
     "output_type": "stream",
     "text": [
      "Predicted Probability:  0.5968852088432921\n",
      "Original Value:  1\n"
     ]
    }
   ],
   "source": [
    "X_small = dv.transform([customer])\n",
    "print(\"Predicted Probability: \",model.predict_proba(X_small)[0, 1])\n",
    "print(\"Original Value: \",y_test[-1])"
   ]
  },
  {
   "cell_type": "code",
   "execution_count": null,
   "id": "12fcbf05",
   "metadata": {},
   "outputs": [],
   "source": []
  },
  {
   "cell_type": "code",
   "execution_count": null,
   "id": "ab5a6d5d",
   "metadata": {},
   "outputs": [],
   "source": []
  },
  {
   "cell_type": "code",
   "execution_count": null,
   "id": "071e0c81",
   "metadata": {},
   "outputs": [],
   "source": []
  }
 ],
 "metadata": {
  "kernelspec": {
   "display_name": "Python 3",
   "language": "python",
   "name": "python3"
  },
  "language_info": {
   "codemirror_mode": {
    "name": "ipython",
    "version": 3
   },
   "file_extension": ".py",
   "mimetype": "text/x-python",
   "name": "python",
   "nbconvert_exporter": "python",
   "pygments_lexer": "ipython3",
   "version": "3.8.8"
  }
 },
 "nbformat": 4,
 "nbformat_minor": 5
}
